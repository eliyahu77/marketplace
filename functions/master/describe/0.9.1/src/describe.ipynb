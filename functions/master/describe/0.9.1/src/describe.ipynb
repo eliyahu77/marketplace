{
 "cells": [
  {
   "cell_type": "markdown",
   "metadata": {},
   "source": [
    "# Describe\n",
    "\n",
    " This function will analysis the data and outputs the following artifacts per\n",
    "    column within the data frame (based on data types):\n",
    "\n",
    "    histogram matrix chart\n",
    "    histogram per feature chart\n",
    "    violin chart\n",
    "    correlation-matrix chart\n",
    "    correlation-matrix csv\n",
    "    imbalance pie chart\n",
    "    imbalance-weights-vec csv"
   ]
  },
  {
   "cell_type": "markdown",
   "metadata": {},
   "source": [
    "<a id=\"handler1\"></a>\n",
    "\n",
    "## analyse\n",
    "\n",
    "###  Docs\n",
    "\n",
    "#### Parameters:\n",
    "* **`context`**: `mlrun.MLClientCtx` - The MLRun function execution context\n",
    "* **`name`**: `str` - Key of the dataset to database (\"dataset\" for default).\n",
    "* **`table`**: `DataItem = None` - MLRun input pointing to pandas dataframe (csv/parquet file path)\n",
    "* **`label_column`**: `str = None` - Ground truth column label\n",
    "* **`plots_dest`**: `str = \"plots\"` - Destination folder of summary plots (relative to artifact_path)\n",
    "* **`frac`**: `float = 0.1` -  when the table has more than 5000 samples, the function will execute on random frac from the data.\n"
   ]
  },
  {
   "cell_type": "markdown",
   "metadata": {},
   "source": [
    "### DEMO\n",
    "#### Set-up"
   ]
  },
  {
   "cell_type": "code",
   "execution_count": 12,
   "metadata": {},
   "outputs": [],
   "source": [
    "import pandas as pd\n",
    "import mlrun\n",
    "import os\n",
    "from sklearn.datasets import make_classification\n"
   ]
  },
  {
   "cell_type": "code",
   "execution_count": 3,
   "metadata": {
    "collapsed": false,
    "jupyter": {
     "outputs_hidden": false
    },
    "pycharm": {
     "name": "#%%\n"
    }
   },
   "outputs": [
    {
     "name": "stdout",
     "output_type": "stream",
     "text": [
      "> 2022-03-07 15:57:33,482 [info] loaded project new-describe-project from MLRun DB\n"
     ]
    }
   ],
   "source": [
    "# Set our project's name:\n",
    "project_name = \"new-describe-project\"\n",
    "\n",
    "# Create the project:\n",
    "project = mlrun.get_or_create_project(name=project_name, context=\"./\", user_project=True)"
   ]
  },
  {
   "cell_type": "markdown",
   "metadata": {},
   "source": [
    "#### Loading dataset\n",
    "We will use make_classification to generate random dataset"
   ]
  },
  {
   "cell_type": "code",
   "execution_count": 4,
   "metadata": {},
   "outputs": [],
   "source": [
    "n_features=5\n",
    "X, y = make_classification(n_samples=100, n_features=n_features, n_classes=3, random_state = 18,\n",
    "                                     class_sep=2, n_informative=3)\n",
    "df = pd.DataFrame(X, columns=[f\"feature_{i}\" for i in range(n_features)])\n",
    "df['label'] = y\n",
    "try:\n",
    "    os.mkdir('artifacts')\n",
    "except:\n",
    "    pass\n",
    "df.to_parquet(\"artifacts/random_dataset.parquet\")"
   ]
  },
  {
   "cell_type": "markdown",
   "metadata": {},
   "source": [
    "#### Run the function on new data set\n",
    "Import the describe MLRun function with analysis handler and run it.\n",
    "\n",
    "After we run the function you can see the created artifacts by click on the run uid and go -> artifacts"
   ]
  },
  {
   "cell_type": "code",
   "execution_count": 8,
   "metadata": {},
   "outputs": [
    {
     "data": {
      "text/plain": [
       "<mlrun.runtimes.kubejob.KubejobRuntime at 0x7f3645cb4d90>"
      ]
     },
     "execution_count": 8,
     "metadata": {},
     "output_type": "execute_result"
    }
   ],
   "source": [
    "describe_func = mlrun.import_function(\"hub://describe\")\n",
    "describe_func.apply(mlrun.platforms.auto_mount())"
   ]
  },
  {
   "cell_type": "code",
   "execution_count": 9,
   "metadata": {
    "pycharm": {
     "name": "#%%\n"
    }
   },
   "outputs": [
    {
     "name": "stdout",
     "output_type": "stream",
     "text": [
      "> 2022-03-07 15:58:36,721 [info] starting run task-describe uid=2933ae26f64c4c1a91f43dd0f220de44 DB=http://mlrun-api:8080\n"
     ]
    },
    {
     "data": {
      "text/html": [
       "<style>\n",
       ".dictlist {\n",
       "  background-color: #4EC64B;\n",
       "  text-align: center;\n",
       "  margin: 4px;\n",
       "  border-radius: 3px; padding: 0px 3px 1px 3px; display: inline-block;}\n",
       ".artifact {\n",
       "  cursor: pointer;\n",
       "  background-color: #4EC64B;\n",
       "  text-align: left;\n",
       "  margin: 4px; border-radius: 3px; padding: 0px 3px 1px 3px; display: inline-block;\n",
       "}\n",
       "div.block.hidden {\n",
       "  display: none;\n",
       "}\n",
       ".clickable {\n",
       "  cursor: pointer;\n",
       "}\n",
       ".ellipsis {\n",
       "  display: inline-block;\n",
       "  max-width: 60px;\n",
       "  white-space: nowrap;\n",
       "  overflow: hidden;\n",
       "  text-overflow: ellipsis;\n",
       "}\n",
       ".master-wrapper {\n",
       "  display: flex;\n",
       "  flex-flow: row nowrap;\n",
       "  justify-content: flex-start;\n",
       "  align-items: stretch;\n",
       "}\n",
       ".master-tbl {\n",
       "  flex: 3\n",
       "}\n",
       ".master-wrapper > div {\n",
       "  margin: 4px;\n",
       "  padding: 10px;\n",
       "}\n",
       "iframe.fileview {\n",
       "  border: 0 none;\n",
       "  height: 100%;\n",
       "  width: 100%;\n",
       "  white-space: pre-wrap;\n",
       "}\n",
       ".pane-header-title {\n",
       "  width: 80%;\n",
       "  font-weight: 500;\n",
       "}\n",
       ".pane-header {\n",
       "  line-height: 1;\n",
       "  background-color: #4EC64B;\n",
       "  padding: 3px;\n",
       "}\n",
       ".pane-header .close {\n",
       "  font-size: 20px;\n",
       "  font-weight: 700;\n",
       "  float: right;\n",
       "  margin-top: -5px;\n",
       "}\n",
       ".master-wrapper .right-pane {\n",
       "  border: 1px inset silver;\n",
       "  width: 40%;\n",
       "  min-height: 300px;\n",
       "  flex: 3\n",
       "  min-width: 500px;\n",
       "}\n",
       ".master-wrapper * {\n",
       "  box-sizing: border-box;\n",
       "}\n",
       "</style><script>\n",
       "function copyToClipboard(fld) {\n",
       "    if (document.queryCommandSupported && document.queryCommandSupported('copy')) {\n",
       "        var textarea = document.createElement('textarea');\n",
       "        textarea.textContent = fld.innerHTML;\n",
       "        textarea.style.position = 'fixed';\n",
       "        document.body.appendChild(textarea);\n",
       "        textarea.select();\n",
       "\n",
       "        try {\n",
       "            return document.execCommand('copy'); // Security exception may be thrown by some browsers.\n",
       "        } catch (ex) {\n",
       "\n",
       "        } finally {\n",
       "            document.body.removeChild(textarea);\n",
       "        }\n",
       "    }\n",
       "}\n",
       "function expandPanel(el) {\n",
       "  const panelName = \"#\" + el.getAttribute('paneName');\n",
       "  console.log(el.title);\n",
       "\n",
       "  document.querySelector(panelName + \"-title\").innerHTML = el.title\n",
       "  iframe = document.querySelector(panelName + \"-body\");\n",
       "\n",
       "  const tblcss = `<style> body { font-family: Arial, Helvetica, sans-serif;}\n",
       "    #csv { margin-bottom: 15px; }\n",
       "    #csv table { border-collapse: collapse;}\n",
       "    #csv table td { padding: 4px 8px; border: 1px solid silver;} </style>`;\n",
       "\n",
       "  function csvToHtmlTable(str) {\n",
       "    return '<div id=\"csv\"><table><tr><td>' +  str.replace(/[\\n\\r]+$/g, '').replace(/[\\n\\r]+/g, '</td></tr><tr><td>')\n",
       "      .replace(/,/g, '</td><td>') + '</td></tr></table></div>';\n",
       "  }\n",
       "\n",
       "  function reqListener () {\n",
       "    if (el.title.endsWith(\".csv\")) {\n",
       "      iframe.setAttribute(\"srcdoc\", tblcss + csvToHtmlTable(this.responseText));\n",
       "    } else {\n",
       "      iframe.setAttribute(\"srcdoc\", this.responseText);\n",
       "    }\n",
       "    console.log(this.responseText);\n",
       "  }\n",
       "\n",
       "  const oReq = new XMLHttpRequest();\n",
       "  oReq.addEventListener(\"load\", reqListener);\n",
       "  oReq.open(\"GET\", el.title);\n",
       "  oReq.send();\n",
       "\n",
       "\n",
       "  //iframe.src = el.title;\n",
       "  const resultPane = document.querySelector(panelName + \"-pane\");\n",
       "  if (resultPane.classList.contains(\"hidden\")) {\n",
       "    resultPane.classList.remove(\"hidden\");\n",
       "  }\n",
       "}\n",
       "function closePanel(el) {\n",
       "  const panelName = \"#\" + el.getAttribute('paneName')\n",
       "  const resultPane = document.querySelector(panelName + \"-pane\");\n",
       "  if (!resultPane.classList.contains(\"hidden\")) {\n",
       "    resultPane.classList.add(\"hidden\");\n",
       "  }\n",
       "}\n",
       "\n",
       "</script>\n",
       "<div class=\"master-wrapper\">\n",
       "  <div class=\"block master-tbl\"><div>\n",
       "<style scoped>\n",
       "    .dataframe tbody tr th:only-of-type {\n",
       "        vertical-align: middle;\n",
       "    }\n",
       "\n",
       "    .dataframe tbody tr th {\n",
       "        vertical-align: top;\n",
       "    }\n",
       "\n",
       "    .dataframe thead th {\n",
       "        text-align: right;\n",
       "    }\n",
       "</style>\n",
       "<table border=\"1\" class=\"dataframe\">\n",
       "  <thead>\n",
       "    <tr style=\"text-align: right;\">\n",
       "      <th>project</th>\n",
       "      <th>uid</th>\n",
       "      <th>iter</th>\n",
       "      <th>start</th>\n",
       "      <th>state</th>\n",
       "      <th>name</th>\n",
       "      <th>labels</th>\n",
       "      <th>inputs</th>\n",
       "      <th>parameters</th>\n",
       "      <th>results</th>\n",
       "      <th>artifacts</th>\n",
       "    </tr>\n",
       "  </thead>\n",
       "  <tbody>\n",
       "    <tr>\n",
       "      <td>new-describe-project-davids</td>\n",
       "      <td><div title=\"2933ae26f64c4c1a91f43dd0f220de44\"><a href=\"https://dashboard.default-tenant.app.yh41.iguazio-cd1.com/mlprojects/new-describe-project-davids/jobs/monitor/2933ae26f64c4c1a91f43dd0f220de44/overview\" target=\"_blank\" >...f220de44</a></div></td>\n",
       "      <td>0</td>\n",
       "      <td>Mar 07 15:58:36</td>\n",
       "      <td>completed</td>\n",
       "      <td>task-describe</td>\n",
       "      <td><div class=\"dictlist\">v3io_user=davids</div><div class=\"dictlist\">kind=</div><div class=\"dictlist\">owner=davids</div><div class=\"dictlist\">host=jupyter-davids-5d6fdc4597-l79r4</div></td>\n",
       "      <td><div title=\"/User/artifacts/random_dataset.parquet\">table</div></td>\n",
       "      <td><div class=\"dictlist\">update_dataset=True</div><div class=\"dictlist\">label_column=label</div></td>\n",
       "      <td></td>\n",
       "      <td><div class=\"artifact\" onclick=\"expandPanel(this)\" paneName=\"result2dea35fd\" title=\"files/v3io/projects/new-describe-project-davids/artifacts/plots/hist_mat.html\">histograms matrix</div><div class=\"artifact\" onclick=\"expandPanel(this)\" paneName=\"result2dea35fd\" title=\"files/v3io/projects/new-describe-project-davids/artifacts/plots/hist_feature_0.html\">histogram_feature_0</div><div class=\"artifact\" onclick=\"expandPanel(this)\" paneName=\"result2dea35fd\" title=\"files/v3io/projects/new-describe-project-davids/artifacts/plots/hist_feature_1.html\">histogram_feature_1</div><div class=\"artifact\" onclick=\"expandPanel(this)\" paneName=\"result2dea35fd\" title=\"files/v3io/projects/new-describe-project-davids/artifacts/plots/hist_feature_2.html\">histogram_feature_2</div><div class=\"artifact\" onclick=\"expandPanel(this)\" paneName=\"result2dea35fd\" title=\"files/v3io/projects/new-describe-project-davids/artifacts/plots/hist_feature_3.html\">histogram_feature_3</div><div class=\"artifact\" onclick=\"expandPanel(this)\" paneName=\"result2dea35fd\" title=\"files/v3io/projects/new-describe-project-davids/artifacts/plots/hist_feature_4.html\">histogram_feature_4</div><div class=\"artifact\" onclick=\"expandPanel(this)\" paneName=\"result2dea35fd\" title=\"files/v3io/projects/new-describe-project-davids/artifacts/plots/violin.html\">violin</div><div class=\"artifact\" onclick=\"expandPanel(this)\" paneName=\"result2dea35fd\" title=\"files/v3io/projects/new-describe-project-davids/artifacts/plots/imbalance.html\">imbalance</div><div class=\"artifact\" onclick=\"expandPanel(this)\" paneName=\"result2dea35fd\" title=\"files/v3io/projects/new-describe-project-davids/artifacts/plots/imbalance-weights-vec.csv\">imbalance-weights-vec</div><div class=\"artifact\" onclick=\"expandPanel(this)\" paneName=\"result2dea35fd\" title=\"files/v3io/projects/new-describe-project-davids/artifacts/plots/correlation-matrix.csv\">correlation-matrix csv</div><div class=\"artifact\" onclick=\"expandPanel(this)\" paneName=\"result2dea35fd\" title=\"files/v3io/projects/new-describe-project-davids/artifacts/plots/corr.html\">correlation-matrix</div><div title=\"v3io:///projects/new-describe-project-davids/artifacts/dataset.parquet\">dataset</div></td>\n",
       "    </tr>\n",
       "  </tbody>\n",
       "</table>\n",
       "</div></div>\n",
       "  <div id=\"result2dea35fd-pane\" class=\"right-pane block hidden\">\n",
       "    <div class=\"pane-header\">\n",
       "      <span id=\"result2dea35fd-title\" class=\"pane-header-title\">Title</span>\n",
       "      <span onclick=\"closePanel(this)\" paneName=\"result2dea35fd\" class=\"close clickable\">&times;</span>\n",
       "    </div>\n",
       "    <iframe class=\"fileview\" id=\"result2dea35fd-body\"></iframe>\n",
       "  </div>\n",
       "</div>\n"
      ],
      "text/plain": [
       "<IPython.core.display.HTML object>"
      ]
     },
     "metadata": {},
     "output_type": "display_data"
    },
    {
     "name": "stdout",
     "output_type": "stream",
     "text": [
      "\n"
     ]
    },
    {
     "data": {
      "text/html": [
       "<b> > to track results use the .show() or .logs() methods  or <a href=\"https://dashboard.default-tenant.app.yh41.iguazio-cd1.com/mlprojects/new-describe-project-davids/jobs/monitor/2933ae26f64c4c1a91f43dd0f220de44/overview\" target=\"_blank\">click here</a> to open in UI</b>"
      ],
      "text/plain": [
       "<IPython.core.display.HTML object>"
      ]
     },
     "metadata": {},
     "output_type": "display_data"
    },
    {
     "name": "stdout",
     "output_type": "stream",
     "text": [
      "> 2022-03-07 15:58:42,751 [info] run executed, status=completed\n"
     ]
    }
   ],
   "source": [
    "describe_run = describe_func.run(\n",
    "            name=\"task-describe\",\n",
    "            handler='analyze',\n",
    "            inputs={\"table\": os.path.abspath(\"artifacts/random_dataset.parquet\")},\n",
    "            params={\"label_column\": \"label\"},\n",
    "            local=True\n",
    "        )"
   ]
  },
  {
   "cell_type": "markdown",
   "metadata": {},
   "source": [
    "#### Run the function on alredy loaded data set\n",
    "\n",
    "log new data set to the project\n"
   ]
  },
  {
   "cell_type": "code",
   "execution_count": 32,
   "metadata": {},
   "outputs": [
    {
     "data": {
      "text/plain": [
       "<mlrun.artifacts.dataset.DatasetArtifact at 0x7f362c84ec50>"
      ]
     },
     "execution_count": 32,
     "metadata": {},
     "output_type": "execute_result"
    }
   ],
   "source": [
    "context = mlrun.get_or_create_ctx(project_name)\n",
    "df = pd.read_parquet(os.path.abspath(\"artifacts/random_dataset.parquet\"))\n",
    "context.log_dataset(key=\"dataset\", db_key=\"dataset1\", stats=True, df=df)"
   ]
  },
  {
   "cell_type": "markdown",
   "metadata": {},
   "source": [
    "Import the describe MLRun function with analysis handler and run it.\n",
    "\n",
    "After we run the function you can see the created artifacts by click on the run uid and go -> artifacts"
   ]
  },
  {
   "cell_type": "code",
   "execution_count": 33,
   "metadata": {},
   "outputs": [
    {
     "data": {
      "text/plain": [
       "<mlrun.runtimes.kubejob.KubejobRuntime at 0x7f362ef32550>"
      ]
     },
     "execution_count": 33,
     "metadata": {},
     "output_type": "execute_result"
    }
   ],
   "source": [
    "describe_func = mlrun.import_function(\"hub://describe\")\n",
    "describe_func.apply(mlrun.platforms.auto_mount())"
   ]
  },
  {
   "cell_type": "code",
   "execution_count": 34,
   "metadata": {},
   "outputs": [
    {
     "name": "stdout",
     "output_type": "stream",
     "text": [
      "> 2022-03-07 16:31:05,060 [info] starting run task-describe uid=512a02a6152f4b4bb92f3b7301cc439c DB=http://mlrun-api:8080\n"
     ]
    },
    {
     "data": {
      "text/html": [
       "<style>\n",
       ".dictlist {\n",
       "  background-color: #4EC64B;\n",
       "  text-align: center;\n",
       "  margin: 4px;\n",
       "  border-radius: 3px; padding: 0px 3px 1px 3px; display: inline-block;}\n",
       ".artifact {\n",
       "  cursor: pointer;\n",
       "  background-color: #4EC64B;\n",
       "  text-align: left;\n",
       "  margin: 4px; border-radius: 3px; padding: 0px 3px 1px 3px; display: inline-block;\n",
       "}\n",
       "div.block.hidden {\n",
       "  display: none;\n",
       "}\n",
       ".clickable {\n",
       "  cursor: pointer;\n",
       "}\n",
       ".ellipsis {\n",
       "  display: inline-block;\n",
       "  max-width: 60px;\n",
       "  white-space: nowrap;\n",
       "  overflow: hidden;\n",
       "  text-overflow: ellipsis;\n",
       "}\n",
       ".master-wrapper {\n",
       "  display: flex;\n",
       "  flex-flow: row nowrap;\n",
       "  justify-content: flex-start;\n",
       "  align-items: stretch;\n",
       "}\n",
       ".master-tbl {\n",
       "  flex: 3\n",
       "}\n",
       ".master-wrapper > div {\n",
       "  margin: 4px;\n",
       "  padding: 10px;\n",
       "}\n",
       "iframe.fileview {\n",
       "  border: 0 none;\n",
       "  height: 100%;\n",
       "  width: 100%;\n",
       "  white-space: pre-wrap;\n",
       "}\n",
       ".pane-header-title {\n",
       "  width: 80%;\n",
       "  font-weight: 500;\n",
       "}\n",
       ".pane-header {\n",
       "  line-height: 1;\n",
       "  background-color: #4EC64B;\n",
       "  padding: 3px;\n",
       "}\n",
       ".pane-header .close {\n",
       "  font-size: 20px;\n",
       "  font-weight: 700;\n",
       "  float: right;\n",
       "  margin-top: -5px;\n",
       "}\n",
       ".master-wrapper .right-pane {\n",
       "  border: 1px inset silver;\n",
       "  width: 40%;\n",
       "  min-height: 300px;\n",
       "  flex: 3\n",
       "  min-width: 500px;\n",
       "}\n",
       ".master-wrapper * {\n",
       "  box-sizing: border-box;\n",
       "}\n",
       "</style><script>\n",
       "function copyToClipboard(fld) {\n",
       "    if (document.queryCommandSupported && document.queryCommandSupported('copy')) {\n",
       "        var textarea = document.createElement('textarea');\n",
       "        textarea.textContent = fld.innerHTML;\n",
       "        textarea.style.position = 'fixed';\n",
       "        document.body.appendChild(textarea);\n",
       "        textarea.select();\n",
       "\n",
       "        try {\n",
       "            return document.execCommand('copy'); // Security exception may be thrown by some browsers.\n",
       "        } catch (ex) {\n",
       "\n",
       "        } finally {\n",
       "            document.body.removeChild(textarea);\n",
       "        }\n",
       "    }\n",
       "}\n",
       "function expandPanel(el) {\n",
       "  const panelName = \"#\" + el.getAttribute('paneName');\n",
       "  console.log(el.title);\n",
       "\n",
       "  document.querySelector(panelName + \"-title\").innerHTML = el.title\n",
       "  iframe = document.querySelector(panelName + \"-body\");\n",
       "\n",
       "  const tblcss = `<style> body { font-family: Arial, Helvetica, sans-serif;}\n",
       "    #csv { margin-bottom: 15px; }\n",
       "    #csv table { border-collapse: collapse;}\n",
       "    #csv table td { padding: 4px 8px; border: 1px solid silver;} </style>`;\n",
       "\n",
       "  function csvToHtmlTable(str) {\n",
       "    return '<div id=\"csv\"><table><tr><td>' +  str.replace(/[\\n\\r]+$/g, '').replace(/[\\n\\r]+/g, '</td></tr><tr><td>')\n",
       "      .replace(/,/g, '</td><td>') + '</td></tr></table></div>';\n",
       "  }\n",
       "\n",
       "  function reqListener () {\n",
       "    if (el.title.endsWith(\".csv\")) {\n",
       "      iframe.setAttribute(\"srcdoc\", tblcss + csvToHtmlTable(this.responseText));\n",
       "    } else {\n",
       "      iframe.setAttribute(\"srcdoc\", this.responseText);\n",
       "    }\n",
       "    console.log(this.responseText);\n",
       "  }\n",
       "\n",
       "  const oReq = new XMLHttpRequest();\n",
       "  oReq.addEventListener(\"load\", reqListener);\n",
       "  oReq.open(\"GET\", el.title);\n",
       "  oReq.send();\n",
       "\n",
       "\n",
       "  //iframe.src = el.title;\n",
       "  const resultPane = document.querySelector(panelName + \"-pane\");\n",
       "  if (resultPane.classList.contains(\"hidden\")) {\n",
       "    resultPane.classList.remove(\"hidden\");\n",
       "  }\n",
       "}\n",
       "function closePanel(el) {\n",
       "  const panelName = \"#\" + el.getAttribute('paneName')\n",
       "  const resultPane = document.querySelector(panelName + \"-pane\");\n",
       "  if (!resultPane.classList.contains(\"hidden\")) {\n",
       "    resultPane.classList.add(\"hidden\");\n",
       "  }\n",
       "}\n",
       "\n",
       "</script>\n",
       "<div class=\"master-wrapper\">\n",
       "  <div class=\"block master-tbl\"><div>\n",
       "<style scoped>\n",
       "    .dataframe tbody tr th:only-of-type {\n",
       "        vertical-align: middle;\n",
       "    }\n",
       "\n",
       "    .dataframe tbody tr th {\n",
       "        vertical-align: top;\n",
       "    }\n",
       "\n",
       "    .dataframe thead th {\n",
       "        text-align: right;\n",
       "    }\n",
       "</style>\n",
       "<table border=\"1\" class=\"dataframe\">\n",
       "  <thead>\n",
       "    <tr style=\"text-align: right;\">\n",
       "      <th>project</th>\n",
       "      <th>uid</th>\n",
       "      <th>iter</th>\n",
       "      <th>start</th>\n",
       "      <th>state</th>\n",
       "      <th>name</th>\n",
       "      <th>labels</th>\n",
       "      <th>inputs</th>\n",
       "      <th>parameters</th>\n",
       "      <th>results</th>\n",
       "      <th>artifacts</th>\n",
       "    </tr>\n",
       "  </thead>\n",
       "  <tbody>\n",
       "    <tr>\n",
       "      <td>new-describe-project-davids</td>\n",
       "      <td><div title=\"512a02a6152f4b4bb92f3b7301cc439c\"><a href=\"https://dashboard.default-tenant.app.yh41.iguazio-cd1.com/mlprojects/new-describe-project-davids/jobs/monitor/512a02a6152f4b4bb92f3b7301cc439c/overview\" target=\"_blank\" >...01cc439c</a></div></td>\n",
       "      <td>0</td>\n",
       "      <td>Mar 07 16:31:05</td>\n",
       "      <td>completed</td>\n",
       "      <td>task-describe</td>\n",
       "      <td><div class=\"dictlist\">v3io_user=davids</div><div class=\"dictlist\">kind=</div><div class=\"dictlist\">owner=davids</div><div class=\"dictlist\">host=jupyter-davids-5d6fdc4597-l79r4</div></td>\n",
       "      <td><div title=\"/User/artifacts/random_dataset.parquet\">table</div></td>\n",
       "      <td><div class=\"dictlist\">name=dataset1</div><div class=\"dictlist\">update_dataset=True</div><div class=\"dictlist\">label_column=label</div></td>\n",
       "      <td></td>\n",
       "      <td><div class=\"artifact\" onclick=\"expandPanel(this)\" paneName=\"result079f16bf\" title=\"files/v3io/projects/new-describe-project-davids/artifacts/plots/hist_mat.html\">histograms matrix</div><div class=\"artifact\" onclick=\"expandPanel(this)\" paneName=\"result079f16bf\" title=\"files/v3io/projects/new-describe-project-davids/artifacts/plots/hist_feature_0.html\">histogram_feature_0</div><div class=\"artifact\" onclick=\"expandPanel(this)\" paneName=\"result079f16bf\" title=\"files/v3io/projects/new-describe-project-davids/artifacts/plots/hist_feature_1.html\">histogram_feature_1</div><div class=\"artifact\" onclick=\"expandPanel(this)\" paneName=\"result079f16bf\" title=\"files/v3io/projects/new-describe-project-davids/artifacts/plots/hist_feature_2.html\">histogram_feature_2</div><div class=\"artifact\" onclick=\"expandPanel(this)\" paneName=\"result079f16bf\" title=\"files/v3io/projects/new-describe-project-davids/artifacts/plots/hist_feature_3.html\">histogram_feature_3</div><div class=\"artifact\" onclick=\"expandPanel(this)\" paneName=\"result079f16bf\" title=\"files/v3io/projects/new-describe-project-davids/artifacts/plots/hist_feature_4.html\">histogram_feature_4</div><div class=\"artifact\" onclick=\"expandPanel(this)\" paneName=\"result079f16bf\" title=\"files/v3io/projects/new-describe-project-davids/artifacts/plots/violin.html\">violin</div><div class=\"artifact\" onclick=\"expandPanel(this)\" paneName=\"result079f16bf\" title=\"files/v3io/projects/new-describe-project-davids/artifacts/plots/imbalance.html\">imbalance</div><div class=\"artifact\" onclick=\"expandPanel(this)\" paneName=\"result079f16bf\" title=\"files/v3io/projects/new-describe-project-davids/artifacts/plots/imbalance-weights-vec.csv\">imbalance-weights-vec</div><div class=\"artifact\" onclick=\"expandPanel(this)\" paneName=\"result079f16bf\" title=\"files/v3io/projects/new-describe-project-davids/artifacts/plots/correlation-matrix.csv\">correlation-matrix csv</div><div class=\"artifact\" onclick=\"expandPanel(this)\" paneName=\"result079f16bf\" title=\"files/v3io/projects/new-describe-project-davids/artifacts/plots/corr.html\">correlation-matrix</div><div title=\"v3io:///projects/new-describe-project-davids/artifacts/dataset.parquet\">dataset</div></td>\n",
       "    </tr>\n",
       "  </tbody>\n",
       "</table>\n",
       "</div></div>\n",
       "  <div id=\"result079f16bf-pane\" class=\"right-pane block hidden\">\n",
       "    <div class=\"pane-header\">\n",
       "      <span id=\"result079f16bf-title\" class=\"pane-header-title\">Title</span>\n",
       "      <span onclick=\"closePanel(this)\" paneName=\"result079f16bf\" class=\"close clickable\">&times;</span>\n",
       "    </div>\n",
       "    <iframe class=\"fileview\" id=\"result079f16bf-body\"></iframe>\n",
       "  </div>\n",
       "</div>\n"
      ],
      "text/plain": [
       "<IPython.core.display.HTML object>"
      ]
     },
     "metadata": {},
     "output_type": "display_data"
    },
    {
     "name": "stdout",
     "output_type": "stream",
     "text": [
      "\n"
     ]
    },
    {
     "data": {
      "text/html": [
       "<b> > to track results use the .show() or .logs() methods  or <a href=\"https://dashboard.default-tenant.app.yh41.iguazio-cd1.com/mlprojects/new-describe-project-davids/jobs/monitor/512a02a6152f4b4bb92f3b7301cc439c/overview\" target=\"_blank\">click here</a> to open in UI</b>"
      ],
      "text/plain": [
       "<IPython.core.display.HTML object>"
      ]
     },
     "metadata": {},
     "output_type": "display_data"
    },
    {
     "name": "stdout",
     "output_type": "stream",
     "text": [
      "> 2022-03-07 16:31:07,131 [info] run executed, status=completed\n"
     ]
    }
   ],
   "source": [
    "describe_run = describe_func.run(\n",
    "            name=\"task-describe\",\n",
    "            handler='analyze',\n",
    "            inputs={\"table\": os.path.abspath(\"artifacts/random_dataset.parquet\")},\n",
    "            params={\"name\": \"dataset1\", \"label_column\": \"label\"},\n",
    "            local=True\n",
    "        )"
   ]
  }
 ],
 "metadata": {
  "kernelspec": {
   "display_name": "Python 3",
   "language": "python",
   "name": "python3"
  },
  "language_info": {
   "codemirror_mode": {
    "name": "ipython",
    "version": 3
   },
   "file_extension": ".py",
   "mimetype": "text/x-python",
   "name": "python",
   "nbconvert_exporter": "python",
   "pygments_lexer": "ipython3",
   "version": "3.7.6"
  }
 },
 "nbformat": 4,
 "nbformat_minor": 4
}