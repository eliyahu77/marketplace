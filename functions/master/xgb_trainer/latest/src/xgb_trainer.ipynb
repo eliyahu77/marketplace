{
 "cells": [
  {
   "cell_type": "markdown",
   "metadata": {},
   "source": [
    "# XGBoost trainer\n",
    "This notebook function handles training and logging of xgboost models **only**, exposing both the sklearn and low level api\"s."
   ]
  },
  {
   "cell_type": "markdown",
   "metadata": {},
   "source": [
    "## Steps\n",
    "1. generate an xgboost model configuration by selecting one of 5 available types (currently, only classification implemented)\n",
    "2. get a sample of data from a data source (random rows, consecutive rows, or the entire dataset, custom sample)\n",
    "3. split the data into train, validation, and test sets (WIP, this will be parametrized cross-validator)  \n",
    "4. train the model using xgboost in one of its flavours (dask, gpu, mpi...)\n",
    "5. dump the model\n",
    "6. evaluate the model"
   ]
  },
  {
   "cell_type": "markdown",
   "metadata": {},
   "source": [
    "## Import Function"
   ]
  },
  {
   "cell_type": "code",
   "execution_count": 1,
   "metadata": {},
   "outputs": [
    {
     "data": {
      "text/plain": [
       "<mlrun.runtimes.kubejob.KubejobRuntime at 0x7f94e441de20>"
      ]
     },
     "execution_count": 1,
     "metadata": {},
     "output_type": "execute_result"
    }
   ],
   "source": [
    "from mlrun import import_function\n",
    "from mlrun.platforms.other import auto_mount\n",
    "\n",
    "GPU = False\n",
    "\n",
    "\n",
    "fn = import_function(\"hub://xgb_trainer\")\n",
    "fn.image = \"mlrun/ml-models\" if not GPU else \"mlrun/ml-models-gpu\"\n",
    "fn.apply(auto_mount())"
   ]
  },
  {
   "cell_type": "markdown",
   "metadata": {},
   "source": [
    "## Test Function"
   ]
  },
  {
   "cell_type": "markdown",
   "metadata": {},
   "source": [
    "### Generate test data"
   ]
  },
  {
   "cell_type": "code",
   "execution_count": 2,
   "metadata": {},
   "outputs": [
    {
     "name": "stdout",
     "output_type": "stream",
     "text": [
      "> 2021-08-01 13:12:07,833 [info] starting run gen-class-data-gen_class_data uid=1712de42861f4f19be29b7975c5507d0 DB=http://mlrun-api:8080\n",
      "> 2021-08-01 13:12:07,904 [info] Job is running in the background, pod: gen-class-data-gen-class-data-rrcr2\n",
      "> 2021-08-01 13:12:11,524 [info] run executed, status=completed\n",
      "final state: completed\n"
     ]
    },
    {
     "data": {
      "text/html": [
       "<style>\n",
       ".dictlist {\n",
       "  background-color: #4EC64B;\n",
       "  text-align: center;\n",
       "  margin: 4px;\n",
       "  border-radius: 3px; padding: 0px 3px 1px 3px; display: inline-block;}\n",
       ".artifact {\n",
       "  cursor: pointer;\n",
       "  background-color: #4EC64B;\n",
       "  text-align: left;\n",
       "  margin: 4px; border-radius: 3px; padding: 0px 3px 1px 3px; display: inline-block;\n",
       "}\n",
       "div.block.hidden {\n",
       "  display: none;\n",
       "}\n",
       ".clickable {\n",
       "  cursor: pointer;\n",
       "}\n",
       ".ellipsis {\n",
       "  display: inline-block;\n",
       "  max-width: 60px;\n",
       "  white-space: nowrap;\n",
       "  overflow: hidden;\n",
       "  text-overflow: ellipsis;\n",
       "}\n",
       ".master-wrapper {\n",
       "  display: flex;\n",
       "  flex-flow: row nowrap;\n",
       "  justify-content: flex-start;\n",
       "  align-items: stretch;\n",
       "}\n",
       ".master-tbl {\n",
       "  flex: 3\n",
       "}\n",
       ".master-wrapper > div {\n",
       "  margin: 4px;\n",
       "  padding: 10px;\n",
       "}\n",
       "iframe.fileview {\n",
       "  border: 0 none;\n",
       "  height: 100%;\n",
       "  width: 100%;\n",
       "  white-space: pre-wrap;\n",
       "}\n",
       ".pane-header-title {\n",
       "  width: 80%;\n",
       "  font-weight: 500;\n",
       "}\n",
       ".pane-header {\n",
       "  line-height: 1;\n",
       "  background-color: #4EC64B;\n",
       "  padding: 3px;\n",
       "}\n",
       ".pane-header .close {\n",
       "  font-size: 20px;\n",
       "  font-weight: 700;\n",
       "  float: right;\n",
       "  margin-top: -5px;\n",
       "}\n",
       ".master-wrapper .right-pane {\n",
       "  border: 1px inset silver;\n",
       "  width: 40%;\n",
       "  min-height: 300px;\n",
       "  flex: 3\n",
       "  min-width: 500px;\n",
       "}\n",
       ".master-wrapper * {\n",
       "  box-sizing: border-box;\n",
       "}\n",
       "</style><script>\n",
       "function copyToClipboard(fld) {\n",
       "    if (document.queryCommandSupported && document.queryCommandSupported('copy')) {\n",
       "        var textarea = document.createElement('textarea');\n",
       "        textarea.textContent = fld.innerHTML;\n",
       "        textarea.style.position = 'fixed';\n",
       "        document.body.appendChild(textarea);\n",
       "        textarea.select();\n",
       "\n",
       "        try {\n",
       "            return document.execCommand('copy'); // Security exception may be thrown by some browsers.\n",
       "        } catch (ex) {\n",
       "\n",
       "        } finally {\n",
       "            document.body.removeChild(textarea);\n",
       "        }\n",
       "    }\n",
       "}\n",
       "function expandPanel(el) {\n",
       "  const panelName = \"#\" + el.getAttribute('paneName');\n",
       "  console.log(el.title);\n",
       "\n",
       "  document.querySelector(panelName + \"-title\").innerHTML = el.title\n",
       "  iframe = document.querySelector(panelName + \"-body\");\n",
       "\n",
       "  const tblcss = `<style> body { font-family: Arial, Helvetica, sans-serif;}\n",
       "    #csv { margin-bottom: 15px; }\n",
       "    #csv table { border-collapse: collapse;}\n",
       "    #csv table td { padding: 4px 8px; border: 1px solid silver;} </style>`;\n",
       "\n",
       "  function csvToHtmlTable(str) {\n",
       "    return '<div id=\"csv\"><table><tr><td>' +  str.replace(/[\\n\\r]+$/g, '').replace(/[\\n\\r]+/g, '</td></tr><tr><td>')\n",
       "      .replace(/,/g, '</td><td>') + '</td></tr></table></div>';\n",
       "  }\n",
       "\n",
       "  function reqListener () {\n",
       "    if (el.title.endsWith(\".csv\")) {\n",
       "      iframe.setAttribute(\"srcdoc\", tblcss + csvToHtmlTable(this.responseText));\n",
       "    } else {\n",
       "      iframe.setAttribute(\"srcdoc\", this.responseText);\n",
       "    }\n",
       "    console.log(this.responseText);\n",
       "  }\n",
       "\n",
       "  const oReq = new XMLHttpRequest();\n",
       "  oReq.addEventListener(\"load\", reqListener);\n",
       "  oReq.open(\"GET\", el.title);\n",
       "  oReq.send();\n",
       "\n",
       "\n",
       "  //iframe.src = el.title;\n",
       "  const resultPane = document.querySelector(panelName + \"-pane\");\n",
       "  if (resultPane.classList.contains(\"hidden\")) {\n",
       "    resultPane.classList.remove(\"hidden\");\n",
       "  }\n",
       "}\n",
       "function closePanel(el) {\n",
       "  const panelName = \"#\" + el.getAttribute('paneName')\n",
       "  const resultPane = document.querySelector(panelName + \"-pane\");\n",
       "  if (!resultPane.classList.contains(\"hidden\")) {\n",
       "    resultPane.classList.add(\"hidden\");\n",
       "  }\n",
       "}\n",
       "\n",
       "</script>\n",
       "<div class=\"master-wrapper\">\n",
       "  <div class=\"block master-tbl\"><div>\n",
       "<style scoped>\n",
       "    .dataframe tbody tr th:only-of-type {\n",
       "        vertical-align: middle;\n",
       "    }\n",
       "\n",
       "    .dataframe tbody tr th {\n",
       "        vertical-align: top;\n",
       "    }\n",
       "\n",
       "    .dataframe thead th {\n",
       "        text-align: right;\n",
       "    }\n",
       "</style>\n",
       "<table border=\"1\" class=\"dataframe\">\n",
       "  <thead>\n",
       "    <tr style=\"text-align: right;\">\n",
       "      <th>project</th>\n",
       "      <th>uid</th>\n",
       "      <th>iter</th>\n",
       "      <th>start</th>\n",
       "      <th>state</th>\n",
       "      <th>name</th>\n",
       "      <th>labels</th>\n",
       "      <th>inputs</th>\n",
       "      <th>parameters</th>\n",
       "      <th>results</th>\n",
       "      <th>artifacts</th>\n",
       "    </tr>\n",
       "  </thead>\n",
       "  <tbody>\n",
       "    <tr>\n",
       "      <td>default</td>\n",
       "      <td><div title=\"1712de42861f4f19be29b7975c5507d0\"><a href=\"http://localhost:30060/projects/default/jobs/monitor/1712de42861f4f19be29b7975c5507d0/overview\" target=\"_blank\" >...5c5507d0</a></div></td>\n",
       "      <td>0</td>\n",
       "      <td>Aug 01 13:12:11</td>\n",
       "      <td>completed</td>\n",
       "      <td>gen-class-data-gen_class_data</td>\n",
       "      <td><div class=\"dictlist\">kind=job</div><div class=\"dictlist\">owner=jovyan</div><div class=\"dictlist\">host=gen-class-data-gen-class-data-rrcr2</div></td>\n",
       "      <td></td>\n",
       "      <td><div class=\"dictlist\">n_samples=10000</div><div class=\"dictlist\">m_features=5</div><div class=\"dictlist\">k_classes=2</div><div class=\"dictlist\">weight=[0.5, 0.5]</div><div class=\"dictlist\">sk_params={'n_informative': 2}</div><div class=\"dictlist\">file_ext=csv</div></td>\n",
       "      <td></td>\n",
       "      <td><div class=\"artifact\" onclick=\"expandPanel(this)\" paneName=\"result91f1295a\" title=\"/files/data/classifier-data.csv\">classifier-data</div></td>\n",
       "    </tr>\n",
       "  </tbody>\n",
       "</table>\n",
       "</div></div>\n",
       "  <div id=\"result91f1295a-pane\" class=\"right-pane block hidden\">\n",
       "    <div class=\"pane-header\">\n",
       "      <span id=\"result91f1295a-title\" class=\"pane-header-title\">Title</span>\n",
       "      <span onclick=\"closePanel(this)\" paneName=\"result91f1295a\" class=\"close clickable\">&times;</span>\n",
       "    </div>\n",
       "    <iframe class=\"fileview\" id=\"result91f1295a-body\"></iframe>\n",
       "  </div>\n",
       "</div>\n"
      ],
      "text/plain": [
       "<IPython.core.display.HTML object>"
      ]
     },
     "metadata": {},
     "output_type": "display_data"
    },
    {
     "name": "stdout",
     "output_type": "stream",
     "text": [
      "to track results use .show() or .logs() or in CLI: \n",
      "!mlrun get run 1712de42861f4f19be29b7975c5507d0 --project default , !mlrun logs 1712de42861f4f19be29b7975c5507d0 --project default\n",
      "> 2021-08-01 13:12:14,008 [info] run executed, status=completed\n"
     ]
    }
   ],
   "source": [
    "from mlrun import import_function, mlconf, NewTask\n",
    "from mlrun.platforms.other import auto_mount\n",
    "\n",
    "gen_data = import_function(\"hub://gen_class_data\").apply(auto_mount())\n",
    "\n",
    "gen_params = {\"n_samples\"   : 10_000,\n",
    "              \"m_features\"  : 5,\n",
    "              \"k_classes\"   : 2,\n",
    "              \"weight\"      : [0.5, 0.5],\n",
    "              \"sk_params\"   : {\"n_informative\": 2},\n",
    "              \"file_ext\"    : \"csv\"}\n",
    "\n",
    "\n",
    "gen_data_run = gen_data.run(params=gen_params)"
   ]
  },
  {
   "cell_type": "markdown",
   "metadata": {},
   "source": [
    "### Setup XGBoost Parameters"
   ]
  },
  {
   "cell_type": "code",
   "execution_count": 3,
   "metadata": {},
   "outputs": [],
   "source": [
    "task_params = { \"model_type\": \"classifier\",\n",
    "        \"CLASS_tree_method\": \"hist\",\n",
    "        \"CLASS_objective\": \"binary:logistic\",\n",
    "        \"CLASS_booster\": \"gbtree\",\n",
    "        \"FIT_verbose\": 0,\n",
    "        \"label_column\": \"labels\"}"
   ]
  },
  {
   "cell_type": "markdown",
   "metadata": {},
   "source": [
    "### run remotely"
   ]
  },
  {
   "cell_type": "code",
   "execution_count": 4,
   "metadata": {
    "pycharm": {
     "name": "#%%\n"
    }
   },
   "outputs": [
    {
     "name": "stdout",
     "output_type": "stream",
     "text": [
      "> 2021-08-01 13:12:14,016 [info] starting run xgb-trainer-train_model uid=c434c010e8ff47b5aa96ee8211f12093 DB=http://mlrun-api:8080\n",
      "> 2021-08-01 13:12:14,074 [info] Job is running in the background, pod: xgb-trainer-train-model-gq9rd\n",
      "> 2021-08-01 13:12:19,020 [info] run executed, status=completed\n",
      "The use of label encoder in XGBClassifier is deprecated and will be removed in a future release. To remove this warning, do the following: 1) Pass option use_label_encoder=False when constructing XGBClassifier object; and 2) Encode your labels (y) as integers starting with 0, i.e. 0, 1, 2, ..., [num_class - 1].\n",
      "final state: completed\n"
     ]
    },
    {
     "data": {
      "text/html": [
       "<style>\n",
       ".dictlist {\n",
       "  background-color: #4EC64B;\n",
       "  text-align: center;\n",
       "  margin: 4px;\n",
       "  border-radius: 3px; padding: 0px 3px 1px 3px; display: inline-block;}\n",
       ".artifact {\n",
       "  cursor: pointer;\n",
       "  background-color: #4EC64B;\n",
       "  text-align: left;\n",
       "  margin: 4px; border-radius: 3px; padding: 0px 3px 1px 3px; display: inline-block;\n",
       "}\n",
       "div.block.hidden {\n",
       "  display: none;\n",
       "}\n",
       ".clickable {\n",
       "  cursor: pointer;\n",
       "}\n",
       ".ellipsis {\n",
       "  display: inline-block;\n",
       "  max-width: 60px;\n",
       "  white-space: nowrap;\n",
       "  overflow: hidden;\n",
       "  text-overflow: ellipsis;\n",
       "}\n",
       ".master-wrapper {\n",
       "  display: flex;\n",
       "  flex-flow: row nowrap;\n",
       "  justify-content: flex-start;\n",
       "  align-items: stretch;\n",
       "}\n",
       ".master-tbl {\n",
       "  flex: 3\n",
       "}\n",
       ".master-wrapper > div {\n",
       "  margin: 4px;\n",
       "  padding: 10px;\n",
       "}\n",
       "iframe.fileview {\n",
       "  border: 0 none;\n",
       "  height: 100%;\n",
       "  width: 100%;\n",
       "  white-space: pre-wrap;\n",
       "}\n",
       ".pane-header-title {\n",
       "  width: 80%;\n",
       "  font-weight: 500;\n",
       "}\n",
       ".pane-header {\n",
       "  line-height: 1;\n",
       "  background-color: #4EC64B;\n",
       "  padding: 3px;\n",
       "}\n",
       ".pane-header .close {\n",
       "  font-size: 20px;\n",
       "  font-weight: 700;\n",
       "  float: right;\n",
       "  margin-top: -5px;\n",
       "}\n",
       ".master-wrapper .right-pane {\n",
       "  border: 1px inset silver;\n",
       "  width: 40%;\n",
       "  min-height: 300px;\n",
       "  flex: 3\n",
       "  min-width: 500px;\n",
       "}\n",
       ".master-wrapper * {\n",
       "  box-sizing: border-box;\n",
       "}\n",
       "</style><script>\n",
       "function copyToClipboard(fld) {\n",
       "    if (document.queryCommandSupported && document.queryCommandSupported('copy')) {\n",
       "        var textarea = document.createElement('textarea');\n",
       "        textarea.textContent = fld.innerHTML;\n",
       "        textarea.style.position = 'fixed';\n",
       "        document.body.appendChild(textarea);\n",
       "        textarea.select();\n",
       "\n",
       "        try {\n",
       "            return document.execCommand('copy'); // Security exception may be thrown by some browsers.\n",
       "        } catch (ex) {\n",
       "\n",
       "        } finally {\n",
       "            document.body.removeChild(textarea);\n",
       "        }\n",
       "    }\n",
       "}\n",
       "function expandPanel(el) {\n",
       "  const panelName = \"#\" + el.getAttribute('paneName');\n",
       "  console.log(el.title);\n",
       "\n",
       "  document.querySelector(panelName + \"-title\").innerHTML = el.title\n",
       "  iframe = document.querySelector(panelName + \"-body\");\n",
       "\n",
       "  const tblcss = `<style> body { font-family: Arial, Helvetica, sans-serif;}\n",
       "    #csv { margin-bottom: 15px; }\n",
       "    #csv table { border-collapse: collapse;}\n",
       "    #csv table td { padding: 4px 8px; border: 1px solid silver;} </style>`;\n",
       "\n",
       "  function csvToHtmlTable(str) {\n",
       "    return '<div id=\"csv\"><table><tr><td>' +  str.replace(/[\\n\\r]+$/g, '').replace(/[\\n\\r]+/g, '</td></tr><tr><td>')\n",
       "      .replace(/,/g, '</td><td>') + '</td></tr></table></div>';\n",
       "  }\n",
       "\n",
       "  function reqListener () {\n",
       "    if (el.title.endsWith(\".csv\")) {\n",
       "      iframe.setAttribute(\"srcdoc\", tblcss + csvToHtmlTable(this.responseText));\n",
       "    } else {\n",
       "      iframe.setAttribute(\"srcdoc\", this.responseText);\n",
       "    }\n",
       "    console.log(this.responseText);\n",
       "  }\n",
       "\n",
       "  const oReq = new XMLHttpRequest();\n",
       "  oReq.addEventListener(\"load\", reqListener);\n",
       "  oReq.open(\"GET\", el.title);\n",
       "  oReq.send();\n",
       "\n",
       "\n",
       "  //iframe.src = el.title;\n",
       "  const resultPane = document.querySelector(panelName + \"-pane\");\n",
       "  if (resultPane.classList.contains(\"hidden\")) {\n",
       "    resultPane.classList.remove(\"hidden\");\n",
       "  }\n",
       "}\n",
       "function closePanel(el) {\n",
       "  const panelName = \"#\" + el.getAttribute('paneName')\n",
       "  const resultPane = document.querySelector(panelName + \"-pane\");\n",
       "  if (!resultPane.classList.contains(\"hidden\")) {\n",
       "    resultPane.classList.add(\"hidden\");\n",
       "  }\n",
       "}\n",
       "\n",
       "</script>\n",
       "<div class=\"master-wrapper\">\n",
       "  <div class=\"block master-tbl\"><div>\n",
       "<style scoped>\n",
       "    .dataframe tbody tr th:only-of-type {\n",
       "        vertical-align: middle;\n",
       "    }\n",
       "\n",
       "    .dataframe tbody tr th {\n",
       "        vertical-align: top;\n",
       "    }\n",
       "\n",
       "    .dataframe thead th {\n",
       "        text-align: right;\n",
       "    }\n",
       "</style>\n",
       "<table border=\"1\" class=\"dataframe\">\n",
       "  <thead>\n",
       "    <tr style=\"text-align: right;\">\n",
       "      <th>project</th>\n",
       "      <th>uid</th>\n",
       "      <th>iter</th>\n",
       "      <th>start</th>\n",
       "      <th>state</th>\n",
       "      <th>name</th>\n",
       "      <th>labels</th>\n",
       "      <th>inputs</th>\n",
       "      <th>parameters</th>\n",
       "      <th>results</th>\n",
       "      <th>artifacts</th>\n",
       "    </tr>\n",
       "  </thead>\n",
       "  <tbody>\n",
       "    <tr>\n",
       "      <td>default</td>\n",
       "      <td><div title=\"c434c010e8ff47b5aa96ee8211f12093\"><a href=\"http://localhost:30060/projects/default/jobs/monitor/c434c010e8ff47b5aa96ee8211f12093/overview\" target=\"_blank\" >...11f12093</a></div></td>\n",
       "      <td>0</td>\n",
       "      <td>Aug 01 13:12:17</td>\n",
       "      <td>completed</td>\n",
       "      <td>xgb-trainer-train_model</td>\n",
       "      <td><div class=\"dictlist\">kind=job</div><div class=\"dictlist\">owner=jovyan</div><div class=\"dictlist\">host=xgb-trainer-train-model-gq9rd</div></td>\n",
       "      <td><div class=\"artifact\" onclick=\"expandPanel(this)\" paneName=\"resultd747885c\" title=\"/files/data/classifier-data.csv\">dataset</div></td>\n",
       "      <td><div class=\"dictlist\">model_type=classifier</div><div class=\"dictlist\">CLASS_tree_method=hist</div><div class=\"dictlist\">CLASS_objective=binary:logistic</div><div class=\"dictlist\">CLASS_booster=gbtree</div><div class=\"dictlist\">FIT_verbose=0</div><div class=\"dictlist\">label_column=labels</div></td>\n",
       "      <td><div class=\"dictlist\">accuracy=0.9552</div><div class=\"dictlist\">test-error=0.0448</div><div class=\"dictlist\">rocauc=0.9799618829687036</div><div class=\"dictlist\">brier_score=0.038984999293145965</div><div class=\"dictlist\">f1-score=0.954983922829582</div><div class=\"dictlist\">precision_score=0.965679190751445</div><div class=\"dictlist\">recall_score=0.9445229681978798</div></td>\n",
       "      <td><div title=\"/home/jovyan/data/test_set.parquet\">test_set</div><div class=\"artifact\" onclick=\"expandPanel(this)\" paneName=\"resultd747885c\" title=\"/files/data/plots/probability-calibration.html\">probability-calibration</div><div class=\"artifact\" onclick=\"expandPanel(this)\" paneName=\"resultd747885c\" title=\"/files/data/plots/confusion-matrix.html\">confusion-matrix</div><div class=\"artifact\" onclick=\"expandPanel(this)\" paneName=\"resultd747885c\" title=\"/files/data/plots/feature-importances.html\">feature-importances</div><div class=\"artifact\" onclick=\"expandPanel(this)\" paneName=\"resultd747885c\" title=\"/files/data/plots/precision-recall-binary.html\">precision-recall-binary</div><div class=\"artifact\" onclick=\"expandPanel(this)\" paneName=\"resultd747885c\" title=\"/files/data/plots/roc-binary.html\">roc-binary</div><div title=\"/home/jovyan/data/models\">model</div></td>\n",
       "    </tr>\n",
       "  </tbody>\n",
       "</table>\n",
       "</div></div>\n",
       "  <div id=\"resultd747885c-pane\" class=\"right-pane block hidden\">\n",
       "    <div class=\"pane-header\">\n",
       "      <span id=\"resultd747885c-title\" class=\"pane-header-title\">Title</span>\n",
       "      <span onclick=\"closePanel(this)\" paneName=\"resultd747885c\" class=\"close clickable\">&times;</span>\n",
       "    </div>\n",
       "    <iframe class=\"fileview\" id=\"resultd747885c-body\"></iframe>\n",
       "  </div>\n",
       "</div>\n"
      ],
      "text/plain": [
       "<IPython.core.display.HTML object>"
      ]
     },
     "metadata": {},
     "output_type": "display_data"
    },
    {
     "name": "stdout",
     "output_type": "stream",
     "text": [
      "to track results use .show() or .logs() or in CLI: \n",
      "!mlrun get run c434c010e8ff47b5aa96ee8211f12093 --project default , !mlrun logs c434c010e8ff47b5aa96ee8211f12093 --project default\n",
      "> 2021-08-01 13:12:20,169 [info] run executed, status=completed\n"
     ]
    }
   ],
   "source": [
    "train_run = fn.run(params = task_params,    \n",
    "    inputs={\"dataset\"  : gen_data_run.artifact('classifier-data')['target_path']})"
   ]
  },
  {
   "cell_type": "markdown",
   "metadata": {},
   "source": [
    "### Display the probability calibration"
   ]
  },
  {
   "cell_type": "code",
   "execution_count": 16,
   "metadata": {},
   "outputs": [
    {
     "data": {
      "text/html": [
       "<h3 style=\"text-align:center\">probability calibration plot</h3>\n",
       "<img title=\"probability-calibration\" src=\"data:image/png;base64,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\">"
      ],
      "text/plain": [
       "<IPython.core.display.HTML object>"
      ]
     },
     "execution_count": 16,
     "metadata": {},
     "output_type": "execute_result"
    }
   ],
   "source": [
    "from IPython.display import HTML\n",
    "HTML(train_run.artifact('probability-calibration')['target_path'])"
   ]
  },
  {
   "cell_type": "code",
   "execution_count": 18,
   "metadata": {},
   "outputs": [
    {
     "data": {
      "text/html": [
       "<h3 style=\"text-align:center\">Feature Importances</h3>\n",
       "<img title=\"feature-importances\" src=\"data:image/png;base64,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\">"
      ],
      "text/plain": [
       "<IPython.core.display.HTML object>"
      ]
     },
     "execution_count": 18,
     "metadata": {},
     "output_type": "execute_result"
    }
   ],
   "source": [
    "from IPython.display import HTML\n",
    "HTML(train_run.artifact('feature-importances')['target_path'])\n"
   ]
  },
  {
   "cell_type": "code",
   "execution_count": null,
   "metadata": {},
   "outputs": [],
   "source": []
  }
 ],
 "metadata": {
  "kernelspec": {
   "display_name": "Python 3",
   "language": "python",
   "name": "python3"
  },
  "language_info": {
   "codemirror_mode": {
    "name": "ipython",
    "version": 3
   },
   "file_extension": ".py",
   "mimetype": "text/x-python",
   "name": "python",
   "nbconvert_exporter": "python",
   "pygments_lexer": "ipython3",
   "version": "3.8.8"
  }
 },
 "nbformat": 4,
 "nbformat_minor": 4
}
