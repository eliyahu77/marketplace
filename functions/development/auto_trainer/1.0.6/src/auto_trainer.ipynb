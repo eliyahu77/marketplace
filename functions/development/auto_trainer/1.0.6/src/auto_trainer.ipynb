{
 "cells": [
  {
   "cell_type": "markdown",
   "metadata": {},
   "source": [
    "# MLRun Auto-Trainer Tutorial"
   ]
  },
  {
   "cell_type": "markdown",
   "metadata": {},
   "source": [
    "This notebook shows how to use the handlers of the MLRun's Auto-trainer.\n",
    "the following handlers are:\n",
    "- `train`\n",
    "- `evaluate`\n",
    "- `predict`\n",
    "\n",
    "All you need is simply **ML model type** and a **dataset**."
   ]
  },
  {
   "cell_type": "code",
   "execution_count": null,
   "metadata": {},
   "outputs": [],
   "source": [
    "import mlrun"
   ]
  },
  {
   "cell_type": "code",
   "execution_count": null,
   "metadata": {},
   "outputs": [],
   "source": [
    "mlrun.get_or_create_project('auto-trainer', context=\"./\", user_project=True)"
   ]
  },
  {
   "cell_type": "markdown",
   "metadata": {},
   "source": [
    "### **Fetching a Dataset**"
   ]
  },
  {
   "cell_type": "markdown",
   "metadata": {},
   "source": [
    "To generate the dataset we used the \"gen_class_data\" function from the hub, \n",
    "which wraps scikit-learn's [make_classification](https://scikit-learn.org/stable/modules/generated/sklearn.datasets.make_classification.html#sklearn-datasets-make-classification).<br> \n",
    "See the link for a description of all parameters."
   ]
  },
  {
   "cell_type": "code",
   "execution_count": null,
   "metadata": {},
   "outputs": [],
   "source": [
    "DATASET_URL = 'https://s3.wasabisys.com/iguazio/data/function-marketplace-data/xgb_trainer/classifier-data.csv'"
   ]
  },
  {
   "cell_type": "code",
   "execution_count": null,
   "metadata": {},
   "outputs": [],
   "source": [
    "mlrun.get_dataitem(DATASET_URL).show()"
   ]
  },
  {
   "cell_type": "markdown",
   "metadata": {},
   "source": [
    "### **Importing the MLhandlers functions from the Marketplace**"
   ]
  },
  {
   "cell_type": "code",
   "execution_count": null,
   "metadata": {},
   "outputs": [],
   "source": [
    "auto_trainer = mlrun.import_function(\"hub://auto_trainer\")"
   ]
  },
  {
   "cell_type": "markdown",
   "metadata": {},
   "source": [
    "### **Training a model**\n",
    "\n",
    "Choosing the `train` handler"
   ]
  },
  {
   "cell_type": "markdown",
   "metadata": {},
   "source": [
    "#### Define task parameters¶\n",
    "* Class parameters should contain the prefix `CLASS_`\n",
    "* Fit parameters should contain the prefix `FIT_`\n",
    "* Predict parameters should contain the prefix `PREDICT_`"
   ]
  },
  {
   "cell_type": "code",
   "execution_count": null,
   "metadata": {},
   "outputs": [],
   "source": [
    "model_class = \"sklearn.ensemble.RandomForestClassifier\"\n",
    "additional_parameters = {\n",
    "    \"CLASS_max_depth\": 8,\n",
    "}"
   ]
  },
  {
   "cell_type": "markdown",
   "metadata": {},
   "source": [
    "#### Running the Training job with the \"train\" handler"
   ]
  },
  {
   "cell_type": "code",
   "execution_count": null,
   "metadata": {
    "pycharm": {
     "name": "#%%\n"
    }
   },
   "outputs": [],
   "source": [
    "train_run = auto_trainer.run(\n",
    "    inputs={\"dataset\": DATASET_URL},\n",
    "    params = {\n",
    "        \"model_class\": model_class,\n",
    "        \"drop_columns\": [\"feat_0\", \"feat_2\"],\n",
    "        \"train_test_split_size\": 0.2,\n",
    "        \"random_state\": 42,\n",
    "        \"label_columns\": \"labels\",\n",
    "        \"model_name\": 'MyModel',\n",
    "        **additional_parameters\n",
    "    }, \n",
    "    handler='train',\n",
    "    local=True\n",
    ")"
   ]
  },
  {
   "cell_type": "markdown",
   "metadata": {},
   "source": [
    "#### The result of the train run"
   ]
  },
  {
   "cell_type": "code",
   "execution_count": null,
   "metadata": {},
   "outputs": [],
   "source": [
    "train_run.outputs"
   ]
  },
  {
   "cell_type": "code",
   "execution_count": null,
   "metadata": {},
   "outputs": [],
   "source": [
    "train_run.artifact('confusion-matrix').show()"
   ]
  },
  {
   "cell_type": "markdown",
   "metadata": {},
   "source": [
    "#### Getting the model for evaluating and predicting"
   ]
  },
  {
   "cell_type": "code",
   "execution_count": null,
   "metadata": {},
   "outputs": [],
   "source": [
    "model_path = train_run.outputs['model']"
   ]
  },
  {
   "cell_type": "markdown",
   "metadata": {},
   "source": [
    "### **Evaluating a model**\n",
    "\n",
    "Choosing the `evaluate` handler"
   ]
  },
  {
   "cell_type": "code",
   "execution_count": null,
   "metadata": {},
   "outputs": [],
   "source": [
    "evaluate_run = auto_trainer.run(\n",
    "    inputs={\"dataset\": train_run.outputs['test_set']},\n",
    "    params={\n",
    "        \"model\": model_path,\n",
    "        \"drop_columns\": [\"feat_0\", \"feat_2\"], # Not actually necessary on the test set (already done in the previous step)\n",
    "        \"label_columns\": \"labels\",\n",
    "    },\n",
    "    handler=\"evaluate\",\n",
    "    local=True,\n",
    ")"
   ]
  },
  {
   "cell_type": "markdown",
   "metadata": {},
   "source": [
    "#### The result of the evaluate run"
   ]
  },
  {
   "cell_type": "code",
   "execution_count": null,
   "metadata": {},
   "outputs": [],
   "source": [
    "evaluate_run.outputs"
   ]
  },
  {
   "cell_type": "markdown",
   "metadata": {},
   "source": [
    "### **Making a prediction**\n",
    "\n",
    "Choosing the `predict` handler"
   ]
  },
  {
   "cell_type": "code",
   "execution_count": null,
   "metadata": {},
   "outputs": [],
   "source": [
    "predict_run = auto_trainer.run(\n",
    "    inputs={\"dataset\": DATASET_URL},\n",
    "    params={\n",
    "        \"model\": model_path,\n",
    "        \"drop_columns\": [\"feat_0\", \"feat_2\"], # Not actually necessary on the test set (already done in the previous step)\n",
    "        \"label_columns\": \"labels\",\n",
    "    },\n",
    "    handler=\"predict\",\n",
    "    local=True,\n",
    ")"
   ]
  },
  {
   "cell_type": "markdown",
   "metadata": {},
   "source": [
    "#### Showing the predeiction results"
   ]
  },
  {
   "cell_type": "code",
   "execution_count": null,
   "metadata": {},
   "outputs": [],
   "source": [
    "predict_run.outputs"
   ]
  },
  {
   "cell_type": "code",
   "execution_count": null,
   "metadata": {},
   "outputs": [],
   "source": [
    "predict_run.artifact('prediction').show()"
   ]
  },
  {
   "cell_type": "markdown",
   "metadata": {},
   "source": [
    "[Back to the top](#XGBoost-trainer)"
   ]
  }
 ],
 "metadata": {
  "kernelspec": {
   "display_name": "Python [conda env:root] *",
   "language": "python",
   "name": "conda-root-py"
  },
  "language_info": {
   "codemirror_mode": {
    "name": "ipython",
    "version": 3
   },
   "file_extension": ".py",
   "mimetype": "text/x-python",
   "name": "python",
   "nbconvert_exporter": "python",
   "pygments_lexer": "ipython3",
   "version": "3.7.6"
  }
 },
 "nbformat": 4,
 "nbformat_minor": 4
}