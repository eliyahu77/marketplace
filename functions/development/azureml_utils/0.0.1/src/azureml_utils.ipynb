{
 "cells": [
  {
   "cell_type": "markdown",
   "metadata": {},
   "source": [
    "# AzureML AutoML Demo\n",
    "MLRun function for using Azure AutoML, Including the following handlers:\n",
    "1. `init_experiment` -     Initialize workspace and experiment in Azure ML.\n",
    "2. `init_compute` -        Initialize Azure ML compute target to run experiment.\n",
    "3. `register_dataset` -    Register dataset object (can be also an Iguazio FeatureVector) in Azure ML.\n",
    "4. `download_model` -      Download trained model from Azure ML to local filesystem.\n",
    "5. `upload_model` -        Upload pre-trained model from local filesystem to Azure ML.\n",
    "6. `submit_training_job` - Submit training job to Azure AutoML and download trained model when completed.\n",
    "7. `automl_train` -        Whole training flow for Azure AutoML:\n",
    "                           - Initializing workspace and experiment in Azure ML\n",
    "                           - Registers dataset/feature vector,\n",
    "                           - submits training job\n",
    "                           - downloads trained model"
   ]
  },
  {
   "cell_type": "markdown",
   "metadata": {},
   "source": [
    "## 1. Setup MLRun Project\n",
    "\n",
    "Creating MLRun project"
   ]
  },
  {
   "cell_type": "code",
   "execution_count": 1,
   "metadata": {},
   "outputs": [
    {
     "name": "stdout",
     "output_type": "stream",
     "text": [
      "> 2022-01-03 17:34:51,578 [info] Server and client versions are not the same: {'parsed_server_version': VersionInfo(major=0, minor=8, patch=0, prerelease=None, build=None), 'parsed_client_version': VersionInfo(major=0, minor=9, patch=1, prerelease=None, build=None)}\n"
     ]
    }
   ],
   "source": [
    "import os\n",
    "import json\n",
    "import pandas as pd\n",
    "import mlrun"
   ]
  },
  {
   "cell_type": "code",
   "execution_count": 2,
   "metadata": {},
   "outputs": [
    {
     "name": "stdout",
     "output_type": "stream",
     "text": [
      "> 2022-01-03 17:34:51,619 [info] loaded project azureml from MLRun DB\n"
     ]
    }
   ],
   "source": [
    "# Initialize the MLRun project object\n",
    "project = mlrun.get_or_create_project('azureml', context=\"./\", user_project=True)"
   ]
  },
  {
   "cell_type": "markdown",
   "metadata": {},
   "source": [
    "## 2. Preparing Dataset (Iris)\n",
    "\n",
    "- Preparing training URI for the MLRun function"
   ]
  },
  {
   "cell_type": "code",
   "execution_count": 3,
   "metadata": {},
   "outputs": [
    {
     "data": {
      "text/html": [
       "<div>\n",
       "<style scoped>\n",
       "    .dataframe tbody tr th:only-of-type {\n",
       "        vertical-align: middle;\n",
       "    }\n",
       "\n",
       "    .dataframe tbody tr th {\n",
       "        vertical-align: top;\n",
       "    }\n",
       "\n",
       "    .dataframe thead th {\n",
       "        text-align: right;\n",
       "    }\n",
       "</style>\n",
       "<table border=\"1\" class=\"dataframe\">\n",
       "  <thead>\n",
       "    <tr style=\"text-align: right;\">\n",
       "      <th></th>\n",
       "      <th>sepal length (cm)</th>\n",
       "      <th>sepal width (cm)</th>\n",
       "      <th>petal length (cm)</th>\n",
       "      <th>petal width (cm)</th>\n",
       "      <th>label</th>\n",
       "    </tr>\n",
       "  </thead>\n",
       "  <tbody>\n",
       "    <tr>\n",
       "      <th>0</th>\n",
       "      <td>5.1</td>\n",
       "      <td>3.5</td>\n",
       "      <td>1.4</td>\n",
       "      <td>0.2</td>\n",
       "      <td>0</td>\n",
       "    </tr>\n",
       "    <tr>\n",
       "      <th>1</th>\n",
       "      <td>4.9</td>\n",
       "      <td>3.0</td>\n",
       "      <td>1.4</td>\n",
       "      <td>0.2</td>\n",
       "      <td>0</td>\n",
       "    </tr>\n",
       "    <tr>\n",
       "      <th>2</th>\n",
       "      <td>4.7</td>\n",
       "      <td>3.2</td>\n",
       "      <td>1.3</td>\n",
       "      <td>0.2</td>\n",
       "      <td>0</td>\n",
       "    </tr>\n",
       "    <tr>\n",
       "      <th>3</th>\n",
       "      <td>4.6</td>\n",
       "      <td>3.1</td>\n",
       "      <td>1.5</td>\n",
       "      <td>0.2</td>\n",
       "      <td>0</td>\n",
       "    </tr>\n",
       "    <tr>\n",
       "      <th>4</th>\n",
       "      <td>5.0</td>\n",
       "      <td>3.6</td>\n",
       "      <td>1.4</td>\n",
       "      <td>0.2</td>\n",
       "      <td>0</td>\n",
       "    </tr>\n",
       "  </tbody>\n",
       "</table>\n",
       "</div>"
      ],
      "text/plain": [
       "   sepal length (cm)  sepal width (cm)  petal length (cm)  petal width (cm)  \\\n",
       "0                5.1               3.5                1.4               0.2   \n",
       "1                4.9               3.0                1.4               0.2   \n",
       "2                4.7               3.2                1.3               0.2   \n",
       "3                4.6               3.1                1.5               0.2   \n",
       "4                5.0               3.6                1.4               0.2   \n",
       "\n",
       "   label  \n",
       "0      0  \n",
       "1      0  \n",
       "2      0  \n",
       "3      0  \n",
       "4      0  "
      ]
     },
     "execution_count": 3,
     "metadata": {},
     "output_type": "execute_result"
    }
   ],
   "source": [
    "DATA_URL = \"https://s3.wasabisys.com/iguazio/data/iris/iris_dataset.csv\"\n",
    "\n",
    "mlrun.get_dataitem(DATA_URL).as_df().head()"
   ]
  },
  {
   "cell_type": "markdown",
   "metadata": {},
   "source": [
    "## 3. Submit Azure AutoML Training Job"
   ]
  },
  {
   "cell_type": "markdown",
   "metadata": {},
   "source": [
    "### Submit Azure Secrets\n",
    "For more information about working with secrets see:  [MLRun docs: Working with secrets](https://docs.mlrun.org/en/latest/secrets.html)"
   ]
  },
  {
   "cell_type": "code",
   "execution_count": 4,
   "metadata": {},
   "outputs": [],
   "source": [
    "from dotenv import dotenv_values\n",
    "secrets = dict(dotenv_values(\"env\"))\n",
    "\n",
    "mlrun.get_run_db().create_project_secrets(\n",
    "    project.name,\n",
    "    provider=mlrun.api.schemas.SecretProviderName.kubernetes,\n",
    "    secrets=secrets\n",
    ")"
   ]
  },
  {
   "cell_type": "markdown",
   "metadata": {},
   "source": [
    "### Import azureml_utils from marketplace\n",
    "\n"
   ]
  },
  {
   "cell_type": "code",
   "execution_count": 5,
   "metadata": {},
   "outputs": [],
   "source": [
    "azureml_fn = mlrun.code_to_function(\n",
    "    name=\"azure\",\n",
    "    filename=\"azure_automl.py\",\n",
    "    kind=\"job\",\n",
    ")\n",
    "\n",
    "# azureml_fn = mlrun.import_function('hub://azureml_utils')"
   ]
  },
  {
   "cell_type": "code",
   "execution_count": 6,
   "metadata": {
    "collapsed": true,
    "jupyter": {
     "outputs_hidden": true
    }
   },
   "outputs": [
    {
     "name": "stdout",
     "output_type": "stream",
     "text": [
      "> 2022-01-03 17:34:52,312 [info] Started building image: .mlrun/func-azureml-yonatan-azure:latest\n",
      "\u001b[36mINFO\u001b[0m[0000] Retrieving image manifest mlrun/mlrun:0.8.0  \n",
      "\u001b[36mINFO\u001b[0m[0000] Retrieving image mlrun/mlrun:0.8.0 from registry index.docker.io \n",
      "\u001b[36mINFO\u001b[0m[0000] Built cross stage deps: map[]                \n",
      "\u001b[36mINFO\u001b[0m[0000] Retrieving image manifest mlrun/mlrun:0.8.0  \n",
      "\u001b[36mINFO\u001b[0m[0000] Returning cached image manifest              \n",
      "\u001b[36mINFO\u001b[0m[0000] Executing 0 build triggers                   \n",
      "\u001b[36mINFO\u001b[0m[0000] Unpacking rootfs as cmd RUN python -m pip install azureml-core azureml-train-automl-client requires it. \n",
      "\u001b[36mINFO\u001b[0m[0014] RUN python -m pip install azureml-core azureml-train-automl-client \n",
      "\u001b[36mINFO\u001b[0m[0014] Taking snapshot of full filesystem...        \n",
      "\u001b[36mINFO\u001b[0m[0026] cmd: /bin/sh                                 \n",
      "\u001b[36mINFO\u001b[0m[0026] args: [-c python -m pip install azureml-core azureml-train-automl-client] \n",
      "\u001b[36mINFO\u001b[0m[0026] Running: [/bin/sh -c python -m pip install azureml-core azureml-train-automl-client] \n",
      "Collecting azureml-core\n",
      "  Downloading azureml_core-1.37.0.post1-py3-none-any.whl (2.5 MB)\n",
      "Collecting azureml-train-automl-client\n",
      "  Downloading azureml_train_automl_client-1.37.0-py3-none-any.whl (136 kB)\n",
      "Requirement already satisfied: PyJWT<3.0.0 in /usr/local/lib/python3.7/site-packages (from azureml-core) (2.3.0)\n",
      "Collecting msrestazure<=0.6.4,>=0.4.33\n",
      "  Downloading msrestazure-0.6.4-py2.py3-none-any.whl (40 kB)\n",
      "Collecting pkginfo\n",
      "  Downloading pkginfo-1.8.2-py2.py3-none-any.whl (26 kB)\n",
      "Requirement already satisfied: msal<2.0.0,>=1.15.0 in /usr/local/lib/python3.7/site-packages (from azureml-core) (1.16.0)\n",
      "Requirement already satisfied: adal<=1.2.7,>=1.2.0 in /usr/local/lib/python3.7/site-packages (from azureml-core) (1.2.7)\n",
      "Requirement already satisfied: urllib3<=1.26.7,>=1.23 in /usr/local/lib/python3.7/site-packages (from azureml-core) (1.26.7)\n",
      "Requirement already satisfied: packaging<22.0 in /usr/local/lib/python3.7/site-packages (from azureml-core) (21.2)\n",
      "Requirement already satisfied: azure-core<1.21 in /usr/local/lib/python3.7/site-packages (from azureml-core) (1.19.0)\n",
      "Collecting azure-mgmt-resource<20.0.0,>=15.0.0\n",
      "  Downloading azure_mgmt_resource-19.0.0-py2.py3-none-any.whl (2.2 MB)\n",
      "Collecting contextlib2<22.0.0\n",
      "  Downloading contextlib2-21.6.0-py2.py3-none-any.whl (13 kB)\n",
      "Collecting argcomplete~=1.8\n",
      "  Downloading argcomplete-1.12.3-py2.py3-none-any.whl (38 kB)\n",
      "Requirement already satisfied: pytz in /usr/local/lib/python3.7/site-packages (from azureml-core) (2021.3)\n",
      "Collecting azure-mgmt-storage<20.0.0,>=16.0.0\n",
      "  Downloading azure_mgmt_storage-19.0.0-py2.py3-none-any.whl (1.8 MB)\n",
      "Collecting pathspec<1.0.0\n",
      "  Downloading pathspec-0.9.0-py2.py3-none-any.whl (31 kB)\n",
      "Requirement already satisfied: python-dateutil<3.0.0,>=2.7.3 in /usr/local/lib/python3.7/site-packages (from azureml-core) (2.8.2)\n",
      "Collecting azure-mgmt-containerregistry>=2.0.0\n",
      "  Downloading azure_mgmt_containerregistry-8.2.0-py2.py3-none-any.whl (928 kB)\n",
      "Requirement already satisfied: requests[socks]<3.0.0,>=2.19.1 in /usr/local/lib/python3.7/site-packages (from azureml-core) (2.26.0)\n",
      "Collecting paramiko<3.0.0,>=2.0.8\n",
      "  Downloading paramiko-2.9.1-py2.py3-none-any.whl (210 kB)\n",
      "Requirement already satisfied: azure-common<2.0.0,>=1.1.12 in /usr/local/lib/python3.7/site-packages (from azureml-core) (1.1.27)\n",
      "Collecting ndg-httpsclient<=0.5.1\n",
      "  Downloading ndg_httpsclient-0.5.1-py3-none-any.whl (34 kB)\n",
      "Collecting knack~=0.8.2\n",
      "  Downloading knack-0.8.2-py3-none-any.whl (59 kB)\n",
      "Collecting azure-graphrbac<1.0.0,>=0.40.0\n",
      "  Downloading azure_graphrbac-0.61.1-py2.py3-none-any.whl (141 kB)\n",
      "Collecting backports.tempfile\n",
      "  Downloading backports.tempfile-1.0-py2.py3-none-any.whl (4.4 kB)\n",
      "Collecting SecretStorage<4.0.0\n",
      "  Downloading SecretStorage-3.3.1-py3-none-any.whl (15 kB)\n",
      "Collecting docker<6.0.0\n",
      "  Downloading docker-5.0.3-py2.py3-none-any.whl (146 kB)\n",
      "Collecting azure-mgmt-keyvault<10.0.0,>=0.40.0\n",
      "  Downloading azure_mgmt_keyvault-9.3.0-py2.py3-none-any.whl (412 kB)\n",
      "Requirement already satisfied: msal-extensions<0.4,>=0.3.0 in /usr/local/lib/python3.7/site-packages (from azureml-core) (0.3.0)\n",
      "Collecting azure-mgmt-authorization<1.0.0,>=0.40.0\n",
      "  Downloading azure_mgmt_authorization-0.61.0-py2.py3-none-any.whl (94 kB)\n",
      "Collecting pyopenssl<22.0.0\n",
      "  Downloading pyOpenSSL-21.0.0-py2.py3-none-any.whl (55 kB)\n",
      "Collecting jsonpickle<3.0.0\n",
      "  Downloading jsonpickle-2.0.0-py2.py3-none-any.whl (37 kB)\n",
      "Requirement already satisfied: jmespath<1.0.0 in /usr/local/lib/python3.7/site-packages (from azureml-core) (0.10.0)\n",
      "Requirement already satisfied: msrest<1.0.0,>=0.5.1 in /usr/local/lib/python3.7/site-packages (from azureml-core) (0.6.21)\n",
      "Requirement already satisfied: cryptography!=1.9,!=2.0.*,!=2.1.*,!=2.2.*,<4.0.0 in /usr/local/lib/python3.7/site-packages (from azureml-core) (3.3.2)\n",
      "Requirement already satisfied: humanfriendly<10.0,>=4.7 in /usr/local/lib/python3.7/site-packages (from azureml-core) (8.2)\n",
      "Collecting azureml-dataset-runtime~=1.37.0\n",
      "  Downloading azureml_dataset_runtime-1.37.0-py3-none-any.whl (3.5 kB)\n",
      "Collecting azureml-train-core~=1.37.0\n",
      "  Downloading azureml_train_core-1.37.0-py3-none-any.whl (8.6 MB)\n",
      "Collecting azureml-telemetry~=1.37.0\n",
      "  Downloading azureml_telemetry-1.37.0-py3-none-any.whl (30 kB)\n",
      "Collecting azureml-automl-core~=1.37.0\n",
      "  Downloading azureml_automl_core-1.37.0-py3-none-any.whl (222 kB)\n",
      "Requirement already satisfied: six in /usr/local/lib/python3.7/site-packages (from msrestazure<=0.6.4,>=0.4.33->azureml-core) (1.16.0)\n",
      "Requirement already satisfied: pyparsing<3,>=2.0.2 in /usr/local/lib/python3.7/site-packages (from packaging<22.0->azureml-core) (2.4.7)\n",
      "Collecting azure-mgmt-core<2.0.0,>=1.2.0\n",
      "  Downloading azure_mgmt_core-1.3.0-py2.py3-none-any.whl (25 kB)\n",
      "Requirement already satisfied: importlib-metadata<5,>=0.23; python_version == \"3.7\" in /usr/local/lib/python3.7/site-packages (from argcomplete~=1.8->azureml-core) (4.8.1)\n",
      "Requirement already satisfied: certifi>=2017.4.17 in /usr/local/lib/python3.7/site-packages (from requests[socks]<3.0.0,>=2.19.1->azureml-core) (2021.10.8)\n",
      "Requirement already satisfied: charset-normalizer~=2.0.0; python_version >= \"3\" in /usr/local/lib/python3.7/site-packages (from requests[socks]<3.0.0,>=2.19.1->azureml-core) (2.0.7)\n",
      "Requirement already satisfied: idna<4,>=2.5; python_version >= \"3\" in /usr/local/lib/python3.7/site-packages (from requests[socks]<3.0.0,>=2.19.1->azureml-core) (3.3)\n",
      "Collecting PySocks!=1.5.7,>=1.5.6; extra == \"socks\"\n",
      "  Downloading PySocks-1.7.1-py3-none-any.whl (16 kB)\n",
      "Collecting bcrypt>=3.1.3\n",
      "  Downloading bcrypt-3.2.0-cp36-abi3-manylinux_2_17_x86_64.manylinux2014_x86_64.manylinux_2_24_x86_64.whl (61 kB)\n",
      "Collecting pynacl>=1.0.1\n",
      "  Downloading PyNaCl-1.4.0-cp35-abi3-manylinux1_x86_64.whl (961 kB)\n",
      "Requirement already satisfied: pyasn1>=0.1.1 in /usr/local/lib/python3.7/site-packages (from ndg-httpsclient<=0.5.1->azureml-core) (0.4.8)\n",
      "Requirement already satisfied: pygments in /usr/local/lib/python3.7/site-packages (from knack~=0.8.2->azureml-core) (2.10.0)\n",
      "Collecting colorama\n",
      "  Downloading colorama-0.4.4-py2.py3-none-any.whl (16 kB)\n",
      "Requirement already satisfied: tabulate in /usr/local/lib/python3.7/site-packages (from knack~=0.8.2->azureml-core) (0.8.3)\n",
      "Requirement already satisfied: pyyaml in /usr/local/lib/python3.7/site-packages (from knack~=0.8.2->azureml-core) (5.4.1)\n",
      "Collecting backports.weakref\n",
      "  Downloading backports.weakref-1.0.post1-py2.py3-none-any.whl (5.2 kB)\n",
      "Collecting jeepney>=0.6\n",
      "  Downloading jeepney-0.7.1-py3-none-any.whl (54 kB)\n",
      "Requirement already satisfied: websocket-client>=0.32.0 in /usr/local/lib/python3.7/site-packages (from docker<6.0.0->azureml-core) (1.2.1)\n",
      "Requirement already satisfied: portalocker~=1.0; platform_system != \"Windows\" in /usr/local/lib/python3.7/site-packages (from msal-extensions<0.4,>=0.3.0->azureml-core) (1.7.1)\n",
      "Requirement already satisfied: isodate>=0.6.0 in /usr/local/lib/python3.7/site-packages (from msrest<1.0.0,>=0.5.1->azureml-core) (0.6.0)\n",
      "Requirement already satisfied: requests-oauthlib>=0.5.0 in /usr/local/lib/python3.7/site-packages (from msrest<1.0.0,>=0.5.1->azureml-core) (1.3.0)\n",
      "Requirement already satisfied: cffi>=1.12 in /usr/local/lib/python3.7/site-packages (from cryptography!=1.9,!=2.0.*,!=2.1.*,!=2.2.*,<4.0.0->azureml-core) (1.15.0)\n",
      "Requirement already satisfied: pyarrow<4.0.0,>=0.17.0 in /usr/local/lib/python3.7/site-packages (from azureml-dataset-runtime~=1.37.0->azureml-train-automl-client) (1.0.1)\n",
      "Requirement already satisfied: numpy!=1.19.3; sys_platform == \"linux\" in /usr/local/lib/python3.7/site-packages (from azureml-dataset-runtime~=1.37.0->azureml-train-automl-client) (1.19.5)\n",
      "Collecting azureml-dataprep<2.26.0a,>=2.25.0a\n",
      "  Downloading azureml_dataprep-2.25.2-py3-none-any.whl (39.4 MB)\n",
      "Collecting azureml-train-restclients-hyperdrive~=1.37.0\n",
      "  Downloading azureml_train_restclients_hyperdrive-1.37.0-py3-none-any.whl (19 kB)\n",
      "Collecting applicationinsights\n",
      "  Downloading applicationinsights-0.11.10-py2.py3-none-any.whl (55 kB)\n",
      "Requirement already satisfied: zipp>=0.5 in /usr/local/lib/python3.7/site-packages (from importlib-metadata<5,>=0.23; python_version == \"3.7\"->argcomplete~=1.8->azureml-core) (3.6.0)\n",
      "Requirement already satisfied: typing-extensions>=3.6.4; python_version < \"3.8\" in /usr/local/lib/python3.7/site-packages (from importlib-metadata<5,>=0.23; python_version == \"3.7\"->argcomplete~=1.8->azureml-core) (3.10.0.2)\n",
      "Requirement already satisfied: oauthlib>=3.0.0 in /usr/local/lib/python3.7/site-packages (from requests-oauthlib>=0.5.0->msrest<1.0.0,>=0.5.1->azureml-core) (3.1.1)\n",
      "Requirement already satisfied: pycparser in /usr/local/lib/python3.7/site-packages (from cffi>=1.12->cryptography!=1.9,!=2.0.*,!=2.1.*,!=2.2.*,<4.0.0->azureml-core) (2.20)\n",
      "Collecting azureml-dataprep-native<39.0.0,>=38.0.0\n",
      "  Downloading azureml_dataprep_native-38.0.0-cp37-cp37m-manylinux1_x86_64.whl (1.3 MB)\n",
      "Requirement already satisfied: azure-identity==1.7.0 in /usr/local/lib/python3.7/site-packages (from azureml-dataprep<2.26.0a,>=2.25.0a->azureml-dataset-runtime~=1.37.0->azureml-train-automl-client) (1.7.0)\n",
      "Collecting cloudpickle<2.0.0,>=1.1.0\n",
      "  Downloading cloudpickle-1.6.0-py3-none-any.whl (23 kB)\n",
      "Collecting azureml-dataprep-rslex~=2.1.0dev0\n",
      "  Downloading azureml_dataprep_rslex-2.1.1-cp37-cp37m-manylinux2010_x86_64.whl (13.2 MB)\n",
      "Collecting dotnetcore2<3.0.0,>=2.1.14\n",
      "  Downloading dotnetcore2-2.1.22-py3-none-manylinux1_x86_64.whl (29.3 MB)\n",
      "Collecting distro>=1.2.0\n",
      "  Downloading distro-1.6.0-py2.py3-none-any.whl (19 kB)\n",
      "Installing collected packages: msrestazure, pkginfo, azure-mgmt-core, azure-mgmt-resource, contextlib2, argcomplete, azure-mgmt-storage, pathspec, azure-mgmt-containerregistry, bcrypt, pynacl, paramiko, pyopenssl, ndg-httpsclient, colorama, knack, azure-graphrbac, backports.weakref, backports.tempfile, jeepney, SecretStorage, docker, azure-mgmt-keyvault, azure-mgmt-authorization, jsonpickle, azureml-core, azureml-dataprep-native, cloudpickle, azureml-dataprep-rslex, distro, dotnetcore2, azureml-dataprep, azureml-dataset-runtime, azureml-train-restclients-hyperdrive, applicationinsights, azureml-telemetry, azureml-train-core, azureml-automl-core, azureml-train-automl-client, PySocks\n",
      "  Attempting uninstall: cloudpickle\n",
      "    Found existing installation: cloudpickle 2.0.0\n",
      "    Uninstalling cloudpickle-2.0.0:\n",
      "      Successfully uninstalled cloudpickle-2.0.0\n",
      "Successfully installed PySocks-1.7.1 SecretStorage-3.3.1 applicationinsights-0.11.10 argcomplete-1.12.3 azure-graphrbac-0.61.1 azure-mgmt-authorization-0.61.0 azure-mgmt-containerregistry-8.2.0 azure-mgmt-core-1.3.0 azure-mgmt-keyvault-9.3.0 azure-mgmt-resource-19.0.0 azure-mgmt-storage-19.0.0 azureml-automl-core-1.37.0 azureml-core-1.37.0.post1 azureml-dataprep-2.25.2 azureml-dataprep-native-38.0.0 azureml-dataprep-rslex-2.1.1 azureml-dataset-runtime-1.37.0 azureml-telemetry-1.37.0 azureml-train-automl-client-1.37.0 azureml-train-core-1.37.0 azureml-train-restclients-hyperdrive-1.37.0 backports.tempfile-1.0 backports.weakref-1.0.post1 bcrypt-3.2.0 cloudpickle-1.6.0 colorama-0.4.4 contextlib2-21.6.0 distro-1.6.0 docker-5.0.3 dotnetcore2-2.1.22 jeepney-0.7.1 jsonpickle-2.0.0 knack-0.8.2 msrestazure-0.6.4 ndg-httpsclient-0.5.1 paramiko-2.9.1 pathspec-0.9.0 pkginfo-1.8.2 pynacl-1.4.0 pyopenssl-21.0.0\n",
      "WARNING: You are using pip version 20.2.4; however, version 21.3.1 is available.\n",
      "You should consider upgrading via the '/usr/local/bin/python -m pip install --upgrade pip' command.\n",
      "\u001b[36mINFO\u001b[0m[0041] Taking snapshot of full filesystem...        \n",
      "\u001b[36mINFO\u001b[0m[0050] Pushing image to docker-registry.default-tenant.app.yh41.iguazio-cd1.com/mlrun/func-azureml-yonatan-azure:latest \n",
      "\u001b[36mINFO\u001b[0m[0051] Pushed image to 1 destinations               \n"
     ]
    },
    {
     "data": {
      "text/plain": [
       "BuildStatus(ready=True, outputs={'image': '.mlrun/func-azureml-yonatan-azure:latest'})"
      ]
     },
     "execution_count": 6,
     "metadata": {},
     "output_type": "execute_result"
    }
   ],
   "source": [
    "mlrun.build_function(\n",
    "    azureml_fn, \n",
    "    with_mlrun=False, \n",
    "    skip_deployed=False, \n",
    "    base_image=\"mlrun/mlrun\", \n",
    "    commands=[\"python -m pip install azureml-core azureml-train-automl-client\"]\n",
    ")"
   ]
  },
  {
   "cell_type": "markdown",
   "metadata": {},
   "source": [
    "### Automl configuration & run parameters\n",
    "\n",
    "- The `automl_settings` object is the setup for Azure AutoML. It holds the `task` type, number of  models to train - `iterations`, the desired metric - `primary metric`, the allowed types of models `allowed_models` and more.\n",
    "\n",
    "- The `params` are the parameters for the MLRun function, such as experiment (`experiment_name`) and cpu cluster (`cpu_cluster_name`) names in AzureML, dataset properties for registration, target label for training - `label_column_name`, number of models to download `save_n_models` and more."
   ]
  },
  {
   "cell_type": "code",
   "execution_count": 7,
   "metadata": {},
   "outputs": [],
   "source": [
    "label_column_name = 'label' # target label\n",
    "\n",
    "# Configure automl settings:\n",
    "automl_settings = {\n",
    "            \"task\": 'classification',\n",
    "            \"debug_log\": 'automl_errors.log',\n",
    "#             \"experiment_exit_score\" : 0.9,\n",
    "            \"enable_early_stopping\": False,\n",
    "            \"allowed_models\": ['LogisticRegression', 'SGD', 'SVM'],\n",
    "            \"iterations\": 5,\n",
    "            \"iteration_timeout_minutes\": 2,\n",
    "            \"max_concurrent_iterations\": 2,\n",
    "            \"max_cores_per_iteration\": -1,\n",
    "            \"n_cross_validations\": 5,\n",
    "            \"primary_metric\": 'accuracy',\n",
    "            \"featurization\": 'off',\n",
    "            \"model_explainability\": False,\n",
    "            \"enable_voting_ensemble\": False,\n",
    "            \"enable_stack_ensemble\": False\n",
    "        }\n",
    "\n",
    "# Setting params to azure_run function:\n",
    "params = {\n",
    "    \"experiment_name\": 'azure-automl-test',\n",
    "    \"cpu_cluster_name\": 'azureml-cpu',\n",
    "    \"dataset_name\": 'iris',\n",
    "    \"dataset_description\": 'iris training data',\n",
    "    \"label_column_name\": label_column_name,\n",
    "    \"create_new_version\": True,\n",
    "    \"register_model_name\": \"iris-model\",\n",
    "    \"save_n_models\": 3,\n",
    "    \"automl_settings\": automl_settings\n",
    "}"
   ]
  },
  {
   "cell_type": "markdown",
   "metadata": {},
   "source": [
    "### Run Azure AutoML train:\n",
    "\n",
    "This MLRun function will perform the following:\n",
    "- Initialize workspace and experiment in your AzureML\n",
    "- Register the dataset/feature vector to Iguazio and to AzureML.\n",
    "- Submit the training job to AzureML and print the live training results fro each model\n",
    "- Generate the top trained models."
   ]
  },
  {
   "cell_type": "code",
   "execution_count": 8,
   "metadata": {},
   "outputs": [
    {
     "name": "stdout",
     "output_type": "stream",
     "text": [
      "> 2022-01-03 17:35:49,618 [info] starting run azure-automl_train uid=4f6705ed258746d58f9603ae2b8a5314 DB=http://mlrun-api:8080\n",
      "> 2022-01-03 17:35:49,869 [info] Job is running in the background, pod: azure-automl-train-44ph4\n",
      "> 2022-01-03 17:35:59,136 [info] Loading AzureML Workspace\n",
      "> 2022-01-03 17:36:02,114 [info] Initializing AzureML experiment azure-automl-test\n",
      "> 2022-01-03 17:36:03,331 [info] Initializing AzureML compute target azureml-cpu\n",
      "> 2022-01-03 17:36:03,567 [info] Found existing cluster, will use it.\n",
      "Succeeded\n",
      "AmlCompute wait for completion finished\n",
      "\n",
      "Minimum number of nodes requested have been provisioned\n",
      "> 2022-01-03 17:36:03,747 [info] Connecting to AzureML experiment default datastore\n",
      "> 2022-01-03 17:36:05,005 [info] Retrieving feature vector and uploading to Azure blob storage: az://azureml-blobstore-27f8977b-4946-4ca0-bdc5-5a685d2fe8d7/iris.csv\n",
      "> 2022-01-03 17:36:05,312 [info] Registering dataset iris in Azure ML\n",
      "> 2022-01-03 17:36:05,312 [info] OpenSSL version must be 1.1. Overriding the OpenSSL version to 1.1\n",
      "> 2022-01-03 17:36:12,261 [info] Setting up experiment parameters\n",
      "> 2022-01-03 17:36:12,431 [info] Submitting and running experiment\n",
      "Submitting remote run.\n",
      "Parent Run ID: AutoML_21f468b2-f244-4b2e-b1ed-15768e16bb31\n",
      "https://ml.azure.com/runs/AutoML_21f468b2-f244-4b2e-b1ed-15768e16bb31?wsid=/subscriptions/8d81bc0b-6abd-4395-be83-000251d9fdbe/resourcegroups/nick/workspaces/NickAzureML&tid=af053911-a8b7-450d-9f58-0c08567d4769\n",
      "\n",
      "Current status: ModelSelection. Beginning model selection.\n",
      "\n",
      "********************************************************************************************\n",
      "DATA GUARDRAILS: \n",
      "\n",
      "TYPE:         Class balancing detection\n",
      "STATUS:       PASSED\n",
      "DESCRIPTION:  Your inputs were analyzed, and all classes are balanced in your training data.\n",
      "              Learn more about imbalanced data: https://aka.ms/AutomatedMLImbalancedData\n",
      "\n",
      "********************************************************************************************\n",
      "\n",
      "********************************************************************************************\n",
      "ITER: The iteration being evaluated.\n",
      "PIPELINE: A summary description of the pipeline being evaluated.\n",
      "DURATION: Time taken for the current iteration.\n",
      "METRIC: The result of computing score on the fitted pipeline.\n",
      "BEST: The best observed score thus far.\n",
      "********************************************************************************************\n",
      "\n",
      " ITER   PIPELINE                                       DURATION            METRIC      BEST\n",
      "    1   StandardScalerWrapper SVM                      0:02:04             0.9600    0.9600\n",
      "    0   RobustScaler LogisticRegression                0:04:10             0.9667    0.9667\n",
      "    2   StandardScalerWrapper LogisticRegression       0:04:05             0.9733    0.9733\n",
      "    3   MaxAbsScaler LogisticRegression                0:03:57             0.9533    0.9733\n",
      "    4   MaxAbsScaler LogisticRegression                0:03:54             0.9733    0.9733\n",
      "> 2022-01-03 17:47:54,842 [info] Registering model\n",
      "> 2022-01-03 17:47:56,570 [info] Registered model with name 'iris-model', id 'iris-model:91', version '91'\n",
      "> 2022-01-03 17:47:56,570 [info] Downloading model iris-model:91\n",
      "> 2022-01-03 17:48:01,600 [info] Logging LogisticRegression model to MLRun\n",
      "> 2022-01-03 17:48:02,085 [info] Registering model\n",
      "> 2022-01-03 17:48:03,070 [info] Registered model with name 'iris-model', id 'iris-model:92', version '92'\n",
      "> 2022-01-03 17:48:03,070 [info] Downloading model iris-model:92\n",
      "> 2022-01-03 17:48:08,193 [info] Logging LogisticRegression model to MLRun\n",
      "> 2022-01-03 17:48:08,601 [info] Registering model\n",
      "> 2022-01-03 17:48:09,402 [info] Registered model with name 'iris-model', id 'iris-model:93', version '93'\n",
      "> 2022-01-03 17:48:09,402 [info] Downloading model iris-model:93\n",
      "> 2022-01-03 17:48:14,101 [info] Logging LogisticRegression model to MLRun\n",
      "> 2022-01-03 17:48:15,136 [info] run executed, status=completed\n",
      "final state: completed\n"
     ]
    },
    {
     "data": {
      "text/html": [
       "<style>\n",
       ".dictlist {\n",
       "  background-color: #4EC64B;\n",
       "  text-align: center;\n",
       "  margin: 4px;\n",
       "  border-radius: 3px; padding: 0px 3px 1px 3px; display: inline-block;}\n",
       ".artifact {\n",
       "  cursor: pointer;\n",
       "  background-color: #4EC64B;\n",
       "  text-align: left;\n",
       "  margin: 4px; border-radius: 3px; padding: 0px 3px 1px 3px; display: inline-block;\n",
       "}\n",
       "div.block.hidden {\n",
       "  display: none;\n",
       "}\n",
       ".clickable {\n",
       "  cursor: pointer;\n",
       "}\n",
       ".ellipsis {\n",
       "  display: inline-block;\n",
       "  max-width: 60px;\n",
       "  white-space: nowrap;\n",
       "  overflow: hidden;\n",
       "  text-overflow: ellipsis;\n",
       "}\n",
       ".master-wrapper {\n",
       "  display: flex;\n",
       "  flex-flow: row nowrap;\n",
       "  justify-content: flex-start;\n",
       "  align-items: stretch;\n",
       "}\n",
       ".master-tbl {\n",
       "  flex: 3\n",
       "}\n",
       ".master-wrapper > div {\n",
       "  margin: 4px;\n",
       "  padding: 10px;\n",
       "}\n",
       "iframe.fileview {\n",
       "  border: 0 none;\n",
       "  height: 100%;\n",
       "  width: 100%;\n",
       "  white-space: pre-wrap;\n",
       "}\n",
       ".pane-header-title {\n",
       "  width: 80%;\n",
       "  font-weight: 500;\n",
       "}\n",
       ".pane-header {\n",
       "  line-height: 1;\n",
       "  background-color: #4EC64B;\n",
       "  padding: 3px;\n",
       "}\n",
       ".pane-header .close {\n",
       "  font-size: 20px;\n",
       "  font-weight: 700;\n",
       "  float: right;\n",
       "  margin-top: -5px;\n",
       "}\n",
       ".master-wrapper .right-pane {\n",
       "  border: 1px inset silver;\n",
       "  width: 40%;\n",
       "  min-height: 300px;\n",
       "  flex: 3\n",
       "  min-width: 500px;\n",
       "}\n",
       ".master-wrapper * {\n",
       "  box-sizing: border-box;\n",
       "}\n",
       "</style><script>\n",
       "function copyToClipboard(fld) {\n",
       "    if (document.queryCommandSupported && document.queryCommandSupported('copy')) {\n",
       "        var textarea = document.createElement('textarea');\n",
       "        textarea.textContent = fld.innerHTML;\n",
       "        textarea.style.position = 'fixed';\n",
       "        document.body.appendChild(textarea);\n",
       "        textarea.select();\n",
       "\n",
       "        try {\n",
       "            return document.execCommand('copy'); // Security exception may be thrown by some browsers.\n",
       "        } catch (ex) {\n",
       "\n",
       "        } finally {\n",
       "            document.body.removeChild(textarea);\n",
       "        }\n",
       "    }\n",
       "}\n",
       "function expandPanel(el) {\n",
       "  const panelName = \"#\" + el.getAttribute('paneName');\n",
       "  console.log(el.title);\n",
       "\n",
       "  document.querySelector(panelName + \"-title\").innerHTML = el.title\n",
       "  iframe = document.querySelector(panelName + \"-body\");\n",
       "\n",
       "  const tblcss = `<style> body { font-family: Arial, Helvetica, sans-serif;}\n",
       "    #csv { margin-bottom: 15px; }\n",
       "    #csv table { border-collapse: collapse;}\n",
       "    #csv table td { padding: 4px 8px; border: 1px solid silver;} </style>`;\n",
       "\n",
       "  function csvToHtmlTable(str) {\n",
       "    return '<div id=\"csv\"><table><tr><td>' +  str.replace(/[\\n\\r]+$/g, '').replace(/[\\n\\r]+/g, '</td></tr><tr><td>')\n",
       "      .replace(/,/g, '</td><td>') + '</td></tr></table></div>';\n",
       "  }\n",
       "\n",
       "  function reqListener () {\n",
       "    if (el.title.endsWith(\".csv\")) {\n",
       "      iframe.setAttribute(\"srcdoc\", tblcss + csvToHtmlTable(this.responseText));\n",
       "    } else {\n",
       "      iframe.setAttribute(\"srcdoc\", this.responseText);\n",
       "    }\n",
       "    console.log(this.responseText);\n",
       "  }\n",
       "\n",
       "  const oReq = new XMLHttpRequest();\n",
       "  oReq.addEventListener(\"load\", reqListener);\n",
       "  oReq.open(\"GET\", el.title);\n",
       "  oReq.send();\n",
       "\n",
       "\n",
       "  //iframe.src = el.title;\n",
       "  const resultPane = document.querySelector(panelName + \"-pane\");\n",
       "  if (resultPane.classList.contains(\"hidden\")) {\n",
       "    resultPane.classList.remove(\"hidden\");\n",
       "  }\n",
       "}\n",
       "function closePanel(el) {\n",
       "  const panelName = \"#\" + el.getAttribute('paneName')\n",
       "  const resultPane = document.querySelector(panelName + \"-pane\");\n",
       "  if (!resultPane.classList.contains(\"hidden\")) {\n",
       "    resultPane.classList.add(\"hidden\");\n",
       "  }\n",
       "}\n",
       "\n",
       "</script>\n",
       "<div class=\"master-wrapper\">\n",
       "  <div class=\"block master-tbl\"><div>\n",
       "<style scoped>\n",
       "    .dataframe tbody tr th:only-of-type {\n",
       "        vertical-align: middle;\n",
       "    }\n",
       "\n",
       "    .dataframe tbody tr th {\n",
       "        vertical-align: top;\n",
       "    }\n",
       "\n",
       "    .dataframe thead th {\n",
       "        text-align: right;\n",
       "    }\n",
       "</style>\n",
       "<table border=\"1\" class=\"dataframe\">\n",
       "  <thead>\n",
       "    <tr style=\"text-align: right;\">\n",
       "      <th>project</th>\n",
       "      <th>uid</th>\n",
       "      <th>iter</th>\n",
       "      <th>start</th>\n",
       "      <th>state</th>\n",
       "      <th>name</th>\n",
       "      <th>labels</th>\n",
       "      <th>inputs</th>\n",
       "      <th>parameters</th>\n",
       "      <th>results</th>\n",
       "      <th>artifacts</th>\n",
       "    </tr>\n",
       "  </thead>\n",
       "  <tbody>\n",
       "    <tr>\n",
       "      <td>azureml-yonatan</td>\n",
       "      <td><div title=\"4f6705ed258746d58f9603ae2b8a5314\"><a href=\"https://dashboard.default-tenant.app.yh41.iguazio-cd1.com/mlprojects/azureml-yonatan/jobs/monitor/4f6705ed258746d58f9603ae2b8a5314/overview\" target=\"_blank\" >...2b8a5314</a></div></td>\n",
       "      <td>0</td>\n",
       "      <td>Jan 03 17:35:59</td>\n",
       "      <td>completed</td>\n",
       "      <td>azure-automl_train</td>\n",
       "      <td><div class=\"dictlist\">v3io_user=yonatan</div><div class=\"dictlist\">kind=job</div><div class=\"dictlist\">owner=yonatan</div><div class=\"dictlist\">host=azure-automl-train-44ph4</div></td>\n",
       "      <td><div title=\"https://s3.wasabisys.com/iguazio/data/iris/iris_dataset.csv\">training_data</div></td>\n",
       "      <td><div class=\"dictlist\">experiment_name=azure-automl-test</div><div class=\"dictlist\">cpu_cluster_name=azureml-cpu</div><div class=\"dictlist\">dataset_name=iris</div><div class=\"dictlist\">dataset_description=iris training data</div><div class=\"dictlist\">label_column_name=label</div><div class=\"dictlist\">create_new_version=True</div><div class=\"dictlist\">register_model_name=iris-model</div><div class=\"dictlist\">save_n_models=3</div><div class=\"dictlist\">automl_settings={'task': 'classification', 'debug_log': 'automl_errors.log', 'enable_early_stopping': False, 'allowed_models': ['LogisticRegression', 'SGD', 'SVM'], 'iterations': 5, 'iteration_timeout_minutes': 2, 'max_concurrent_iterations': 2, 'max_cores_per_iteration': -1, 'n_cross_validations': 5, 'primary_metric': 'accuracy', 'featurization': 'off', 'model_explainability': False, 'enable_voting_ensemble': False, 'enable_stack_ensemble': False}</div></td>\n",
       "      <td><div class=\"dictlist\">dataset_blob_path=az://azureml-blobstore-27f8977b-4946-4ca0-bdc5-5a685d2fe8d7/iris.csv</div><div class=\"dictlist\">best_iteration=1</div><div class=\"dictlist\">auc_macro=0.9973298059964726</div><div class=\"dictlist\">recall_score_macro=0.9729629629629629</div><div class=\"dictlist\">average_precision_score_micro=0.9962110898173272</div><div class=\"dictlist\">recall_score_micro=0.9733333333333334</div><div class=\"dictlist\">norm_macro_recall=0.9594444444444443</div><div class=\"dictlist\">weighted_accuracy=0.9739694654594448</div><div class=\"dictlist\">auc_weighted=0.9972857142857142</div><div class=\"dictlist\">log_loss=0.0724925102796574</div><div class=\"dictlist\">f1_score_macro=0.9721779225097302</div><div class=\"dictlist\">matthews_correlation=0.9613232982405628</div><div class=\"dictlist\">f1_score_micro=0.9733333333333334</div><div class=\"dictlist\">average_precision_score_macro=0.9952267382822939</div><div class=\"dictlist\">auc_micro=0.998</div><div class=\"dictlist\">precision_score_micro=0.9733333333333334</div><div class=\"dictlist\">average_precision_score_weighted=0.9952664742664743</div><div class=\"dictlist\">precision_score_macro=0.9754761904761905</div><div class=\"dictlist\">recall_score_weighted=0.9733333333333334</div><div class=\"dictlist\">precision_score_weighted=0.9767380952380952</div><div class=\"dictlist\">balanced_accuracy=0.9729629629629629</div><div class=\"dictlist\">f1_score_weighted=0.9730901151988108</div><div class=\"dictlist\">accuracy=0.9733333333333334</div></td>\n",
       "      <td><div title=\"v3io:///projects/azureml-yonatan/artifacts/models/1/\">model</div><div title=\"v3io:///projects/azureml-yonatan/artifacts/models/\">model_0</div><div title=\"v3io:///projects/azureml-yonatan/artifacts/models/\">model_1</div><div title=\"v3io:///projects/azureml-yonatan/artifacts/models/\">model_2</div></td>\n",
       "    </tr>\n",
       "  </tbody>\n",
       "</table>\n",
       "</div></div>\n",
       "  <div id=\"resultba0d83d8-pane\" class=\"right-pane block hidden\">\n",
       "    <div class=\"pane-header\">\n",
       "      <span id=\"resultba0d83d8-title\" class=\"pane-header-title\">Title</span>\n",
       "      <span onclick=\"closePanel(this)\" paneName=\"resultba0d83d8\" class=\"close clickable\">&times;</span>\n",
       "    </div>\n",
       "    <iframe class=\"fileview\" id=\"resultba0d83d8-body\"></iframe>\n",
       "  </div>\n",
       "</div>\n"
      ],
      "text/plain": [
       "<IPython.core.display.HTML object>"
      ]
     },
     "metadata": {},
     "output_type": "display_data"
    },
    {
     "name": "stdout",
     "output_type": "stream",
     "text": [
      "\n"
     ]
    },
    {
     "data": {
      "text/html": [
       "<b> > to track results use the .show() or .logs() methods  or <a href=\"https://dashboard.default-tenant.app.yh41.iguazio-cd1.com/mlprojects/azureml-yonatan/jobs/monitor/4f6705ed258746d58f9603ae2b8a5314/overview\" target=\"_blank\">click here</a> to open in UI</b>"
      ],
      "text/plain": [
       "<IPython.core.display.HTML object>"
      ]
     },
     "metadata": {},
     "output_type": "display_data"
    },
    {
     "name": "stdout",
     "output_type": "stream",
     "text": [
      "> 2022-01-03 17:48:16,307 [info] run executed, status=completed\n"
     ]
    }
   ],
   "source": [
    "azureml_run = azureml_fn.run(\n",
    "    handler=\"automl_train\",\n",
    "    inputs={\"training_data\": DATA_URL},\n",
    "    params=params,\n",
    ")"
   ]
  },
  {
   "cell_type": "markdown",
   "metadata": {},
   "source": [
    "## 4. Deploying the Model-Serving Function"
   ]
  },
  {
   "cell_type": "markdown",
   "metadata": {},
   "source": [
    "### Importing `v2_model_server` function from marketplace for serving the model\n",
    "\n",
    "Firstly we collect the model paths from our run object and getting the best model.\n",
    "\n",
    "Then importing the serving function from marketplace and adding our best model to the serving function."
   ]
  },
  {
   "cell_type": "code",
   "execution_count": 9,
   "metadata": {},
   "outputs": [
    {
     "data": {
      "text/plain": [
       "<mlrun.serving.states.TaskStep at 0x7feea7f07a90>"
      ]
     },
     "execution_count": 9,
     "metadata": {},
     "output_type": "execute_result"
    }
   ],
   "source": [
    "# Get trained models:\n",
    "model_paths = [azureml_run.outputs[key] for key in azureml_run.outputs.keys() if \"model\" in key]\n",
    "best_model_path = model_paths[0]\n",
    "\n",
    "# Importing serving function from marketplace:\n",
    "serving_fn = mlrun.import_function('hub://v2_model_server')\n",
    "serving_fn.add_model('best_model', model_path=best_model_path)"
   ]
  },
  {
   "cell_type": "code",
   "execution_count": 10,
   "metadata": {},
   "outputs": [
    {
     "data": {
      "text/plain": [
       "'store://artifacts/azureml-yonatan/model_0_logisticregression:4f6705ed258746d58f9603ae2b8a5314'"
      ]
     },
     "execution_count": 10,
     "metadata": {},
     "output_type": "execute_result"
    }
   ],
   "source": [
    "best_model_path"
   ]
  },
  {
   "cell_type": "code",
   "execution_count": 11,
   "metadata": {},
   "outputs": [
    {
     "data": {
      "text/plain": [
       "[('dataset_blob_path',\n",
       "  'az://azureml-blobstore-27f8977b-4946-4ca0-bdc5-5a685d2fe8d7/iris.csv'),\n",
       " ('best_iteration', 1),\n",
       " ('auc_macro', 0.9973298059964726),\n",
       " ('recall_score_macro', 0.9729629629629629),\n",
       " ('average_precision_score_micro', 0.9962110898173272),\n",
       " ('recall_score_micro', 0.9733333333333334),\n",
       " ('norm_macro_recall', 0.9594444444444443),\n",
       " ('weighted_accuracy', 0.9739694654594448),\n",
       " ('auc_weighted', 0.9972857142857142),\n",
       " ('log_loss', 0.0724925102796574),\n",
       " ('f1_score_macro', 0.9721779225097302),\n",
       " ('matthews_correlation', 0.9613232982405628),\n",
       " ('f1_score_micro', 0.9733333333333334),\n",
       " ('average_precision_score_macro', 0.9952267382822939),\n",
       " ('auc_micro', 0.998),\n",
       " ('precision_score_micro', 0.9733333333333334),\n",
       " ('average_precision_score_weighted', 0.9952664742664743),\n",
       " ('precision_score_macro', 0.9754761904761905),\n",
       " ('recall_score_weighted', 0.9733333333333334),\n",
       " ('precision_score_weighted', 0.9767380952380952),\n",
       " ('balanced_accuracy', 0.9729629629629629),\n",
       " ('f1_score_weighted', 0.9730901151988108),\n",
       " ('accuracy', 0.9733333333333334),\n",
       " ('model',\n",
       "  'store://artifacts/azureml-yonatan/model_0_logisticregression:4f6705ed258746d58f9603ae2b8a5314'),\n",
       " ('model_0',\n",
       "  'store://artifacts/azureml-yonatan/model_0_logisticregression:4f6705ed258746d58f9603ae2b8a5314'),\n",
       " ('model_1',\n",
       "  'store://artifacts/azureml-yonatan/model_1_logisticregression:4f6705ed258746d58f9603ae2b8a5314'),\n",
       " ('model_2',\n",
       "  'store://artifacts/azureml-yonatan/model_2_logisticregression:4f6705ed258746d58f9603ae2b8a5314')]"
      ]
     },
     "execution_count": 11,
     "metadata": {},
     "output_type": "execute_result"
    }
   ],
   "source": [
    "[(key, val) for key, val in azureml_run.outputs.items()]"
   ]
  },
  {
   "cell_type": "markdown",
   "metadata": {},
   "source": [
    "### Building and Deploying the Serving Function"
   ]
  },
  {
   "cell_type": "code",
   "execution_count": 12,
   "metadata": {},
   "outputs": [
    {
     "name": "stdout",
     "output_type": "stream",
     "text": [
      "> 2022-01-03 17:48:16,624 [info] Starting remote function deploy\n",
      "2022-01-03 17:48:16  (info) Deploying function\n",
      "2022-01-03 17:48:16  (info) Building\n",
      "2022-01-03 17:48:17  (info) Staging files and preparing base images\n",
      "2022-01-03 17:48:17  (info) Building processor image\n",
      "2022-01-03 17:48:18  (info) Build complete\n",
      "2022-01-03 17:48:24  (info) Function deploy complete\n",
      "> 2022-01-03 17:48:25,070 [info] successfully deployed function: {'internal_invocation_urls': ['nuclio-azureml-yonatan-v2-model-server.default-tenant.svc.cluster.local:8080'], 'external_invocation_urls': ['azureml-yonatan-v2-model-server-azureml-yonatan.default-tenant.app.yh41.iguazio-cd1.com/']}\n"
     ]
    }
   ],
   "source": [
    "function_address = serving_fn.deploy()"
   ]
  },
  {
   "cell_type": "markdown",
   "metadata": {},
   "source": [
    "## 5. Using the Live Model-Serving Function"
   ]
  },
  {
   "cell_type": "code",
   "execution_count": 13,
   "metadata": {},
   "outputs": [
    {
     "name": "stdout",
     "output_type": "stream",
     "text": [
      "The address for the function is http://azureml-yonatan-v2-model-server-azureml-yonatan.default-tenant.app.yh41.iguazio-cd1.com/ \n",
      "\n",
      "{\"name\": \"ModelRouter\", \"version\": \"v2\", \"extensions\": []}"
     ]
    }
   ],
   "source": [
    "print (f'The address for the function is {function_address} \\n')\n",
    "\n",
    "!curl $function_address"
   ]
  },
  {
   "cell_type": "markdown",
   "metadata": {},
   "source": [
    "After deploying the serving function with the required model we can make prediction:"
   ]
  },
  {
   "cell_type": "code",
   "execution_count": 17,
   "metadata": {},
   "outputs": [
    {
     "name": "stdout",
     "output_type": "stream",
     "text": [
      "> 2022-01-03 17:50:08,449 [info] invoking function: {'method': 'POST', 'path': 'http://nuclio-azureml-yonatan-v2-model-server.default-tenant.svc.cluster.local:8080/v2/models/best_model/infer'}\n"
     ]
    },
    {
     "ename": "RuntimeError",
     "evalue": "bad function response 400: Unrecognized request format: Extra data: line 1 column 2 (char 1)",
     "output_type": "error",
     "traceback": [
      "\u001b[0;31m---------------------------------------------------------------------------\u001b[0m",
      "\u001b[0;31mRuntimeError\u001b[0m                              Traceback (most recent call last)",
      "\u001b[0;32m<ipython-input-17-7cfa9b91719c>\u001b[0m in \u001b[0;36m<module>\u001b[0;34m\u001b[0m\n\u001b[0;32m----> 1\u001b[0;31m \u001b[0mserving_fn\u001b[0m\u001b[0;34m.\u001b[0m\u001b[0minvoke\u001b[0m\u001b[0;34m(\u001b[0m\u001b[0;34mf'/v2/models/best_model/infer'\u001b[0m\u001b[0;34m,\u001b[0m \u001b[0;34m'0,1,2'\u001b[0m\u001b[0;34m)\u001b[0m\u001b[0;34m\u001b[0m\u001b[0;34m\u001b[0m\u001b[0m\n\u001b[0m",
      "\u001b[0;32m~/.pythonlibs/jupyter-yoni/lib/python3.7/site-packages/mlrun/runtimes/function.py\u001b[0m in \u001b[0;36minvoke\u001b[0;34m(self, path, body, method, headers, dashboard, force_external_address, auth_info)\u001b[0m\n\u001b[1;32m    896\u001b[0m             \u001b[0;32mraise\u001b[0m \u001b[0mOSError\u001b[0m\u001b[0;34m(\u001b[0m\u001b[0;34mf\"error: cannot run function at url {path}, {err}\"\u001b[0m\u001b[0;34m)\u001b[0m\u001b[0;34m\u001b[0m\u001b[0;34m\u001b[0m\u001b[0m\n\u001b[1;32m    897\u001b[0m         \u001b[0;32mif\u001b[0m \u001b[0;32mnot\u001b[0m \u001b[0mresp\u001b[0m\u001b[0;34m.\u001b[0m\u001b[0mok\u001b[0m\u001b[0;34m:\u001b[0m\u001b[0;34m\u001b[0m\u001b[0;34m\u001b[0m\u001b[0m\n\u001b[0;32m--> 898\u001b[0;31m             \u001b[0;32mraise\u001b[0m \u001b[0mRuntimeError\u001b[0m\u001b[0;34m(\u001b[0m\u001b[0;34mf\"bad function response {resp.status_code}: {resp.text}\"\u001b[0m\u001b[0;34m)\u001b[0m\u001b[0;34m\u001b[0m\u001b[0;34m\u001b[0m\u001b[0m\n\u001b[0m\u001b[1;32m    899\u001b[0m \u001b[0;34m\u001b[0m\u001b[0m\n\u001b[1;32m    900\u001b[0m         \u001b[0mdata\u001b[0m \u001b[0;34m=\u001b[0m \u001b[0mresp\u001b[0m\u001b[0;34m.\u001b[0m\u001b[0mcontent\u001b[0m\u001b[0;34m\u001b[0m\u001b[0;34m\u001b[0m\u001b[0m\n",
      "\u001b[0;31mRuntimeError\u001b[0m: bad function response 400: Unrecognized request format: Extra data: line 1 column 2 (char 1)"
     ]
    }
   ],
   "source": [
    "serving_fn.invoke(f'/v2/models/best_model/infer', '0,1,2')"
   ]
  },
  {
   "cell_type": "markdown",
   "metadata": {},
   "source": [
    "## 6. Clean up\n",
    "\n",
    "For cleaning up AzureML resources see:\n",
    "https://docs.microsoft.com/en-us/azure/machine-learning/tutorial-auto-train-models#clean-up-resources"
   ]
  }
 ],
 "metadata": {
  "kernelspec": {
   "display_name": "Python [conda env:root] *",
   "language": "python",
   "name": "conda-root-py"
  },
  "language_info": {
   "codemirror_mode": {
    "name": "ipython",
    "version": 3
   },
   "file_extension": ".py",
   "mimetype": "text/x-python",
   "name": "python",
   "nbconvert_exporter": "python",
   "pygments_lexer": "ipython3",
   "version": "3.7.6"
  }
 },
 "nbformat": 4,
 "nbformat_minor": 4
}
